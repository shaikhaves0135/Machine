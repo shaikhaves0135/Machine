{
  "cells": [
    {
      "cell_type": "code",
      "execution_count": 1,
      "metadata": {
        "id": "EHcPPwXfoF_a"
      },
      "outputs": [],
      "source": [
        "import pandas as pd\n",
        "import numpy as np\n",
        "import matplotlib.pyplot as plt\n",
        "import seaborn as sns\n",
        "import warnings \n",
        "warnings.filterwarnings(\"ignore\")"
      ]
    },
    {
      "cell_type": "code",
      "execution_count": 2,
      "metadata": {
        "id": "NHYVDDv9zUQK"
      },
      "outputs": [],
      "source": [
        "df = pd.read_csv(\"/content/water_potability.csv\")"
      ]
    },
    {
      "cell_type": "code",
      "execution_count": 3,
      "metadata": {
        "colab": {
          "base_uri": "https://localhost:8080/",
          "height": 424
        },
        "id": "7tlBXq10zl6q",
        "outputId": "f621e3f8-b564-4dc6-ded1-fec4c095f9bc"
      },
      "outputs": [
        {
          "output_type": "execute_result",
          "data": {
            "text/plain": [
              "            ph    Hardness        Solids  Chloramines     Sulfate  \\\n",
              "0          NaN  204.890455  20791.318981     7.300212  368.516441   \n",
              "1     3.716080  129.422921  18630.057858     6.635246         NaN   \n",
              "2     8.099124  224.236259  19909.541732     9.275884         NaN   \n",
              "3     8.316766  214.373394  22018.417441     8.059332  356.886136   \n",
              "4     9.092223  181.101509  17978.986339     6.546600  310.135738   \n",
              "...        ...         ...           ...          ...         ...   \n",
              "3271  4.668102  193.681735  47580.991603     7.166639  359.948574   \n",
              "3272  7.808856  193.553212  17329.802160     8.061362         NaN   \n",
              "3273  9.419510  175.762646  33155.578218     7.350233         NaN   \n",
              "3274  5.126763  230.603758  11983.869376     6.303357         NaN   \n",
              "3275  7.874671  195.102299  17404.177061     7.509306         NaN   \n",
              "\n",
              "      Conductivity  Organic_carbon  Trihalomethanes  Turbidity  Potability  \n",
              "0       564.308654       10.379783        86.990970   2.963135           0  \n",
              "1       592.885359       15.180013        56.329076   4.500656           0  \n",
              "2       418.606213       16.868637        66.420093   3.055934           0  \n",
              "3       363.266516       18.436524       100.341674   4.628771           0  \n",
              "4       398.410813       11.558279        31.997993   4.075075           0  \n",
              "...            ...             ...              ...        ...         ...  \n",
              "3271    526.424171       13.894419        66.687695   4.435821           1  \n",
              "3272    392.449580       19.903225              NaN   2.798243           1  \n",
              "3273    432.044783       11.039070        69.845400   3.298875           1  \n",
              "3274    402.883113       11.168946        77.488213   4.708658           1  \n",
              "3275    327.459760       16.140368        78.698446   2.309149           1  \n",
              "\n",
              "[3276 rows x 10 columns]"
            ],
            "text/html": [
              "\n",
              "  <div id=\"df-411db1f4-94b3-4fca-9897-8f29fa2e9551\">\n",
              "    <div class=\"colab-df-container\">\n",
              "      <div>\n",
              "<style scoped>\n",
              "    .dataframe tbody tr th:only-of-type {\n",
              "        vertical-align: middle;\n",
              "    }\n",
              "\n",
              "    .dataframe tbody tr th {\n",
              "        vertical-align: top;\n",
              "    }\n",
              "\n",
              "    .dataframe thead th {\n",
              "        text-align: right;\n",
              "    }\n",
              "</style>\n",
              "<table border=\"1\" class=\"dataframe\">\n",
              "  <thead>\n",
              "    <tr style=\"text-align: right;\">\n",
              "      <th></th>\n",
              "      <th>ph</th>\n",
              "      <th>Hardness</th>\n",
              "      <th>Solids</th>\n",
              "      <th>Chloramines</th>\n",
              "      <th>Sulfate</th>\n",
              "      <th>Conductivity</th>\n",
              "      <th>Organic_carbon</th>\n",
              "      <th>Trihalomethanes</th>\n",
              "      <th>Turbidity</th>\n",
              "      <th>Potability</th>\n",
              "    </tr>\n",
              "  </thead>\n",
              "  <tbody>\n",
              "    <tr>\n",
              "      <th>0</th>\n",
              "      <td>NaN</td>\n",
              "      <td>204.890455</td>\n",
              "      <td>20791.318981</td>\n",
              "      <td>7.300212</td>\n",
              "      <td>368.516441</td>\n",
              "      <td>564.308654</td>\n",
              "      <td>10.379783</td>\n",
              "      <td>86.990970</td>\n",
              "      <td>2.963135</td>\n",
              "      <td>0</td>\n",
              "    </tr>\n",
              "    <tr>\n",
              "      <th>1</th>\n",
              "      <td>3.716080</td>\n",
              "      <td>129.422921</td>\n",
              "      <td>18630.057858</td>\n",
              "      <td>6.635246</td>\n",
              "      <td>NaN</td>\n",
              "      <td>592.885359</td>\n",
              "      <td>15.180013</td>\n",
              "      <td>56.329076</td>\n",
              "      <td>4.500656</td>\n",
              "      <td>0</td>\n",
              "    </tr>\n",
              "    <tr>\n",
              "      <th>2</th>\n",
              "      <td>8.099124</td>\n",
              "      <td>224.236259</td>\n",
              "      <td>19909.541732</td>\n",
              "      <td>9.275884</td>\n",
              "      <td>NaN</td>\n",
              "      <td>418.606213</td>\n",
              "      <td>16.868637</td>\n",
              "      <td>66.420093</td>\n",
              "      <td>3.055934</td>\n",
              "      <td>0</td>\n",
              "    </tr>\n",
              "    <tr>\n",
              "      <th>3</th>\n",
              "      <td>8.316766</td>\n",
              "      <td>214.373394</td>\n",
              "      <td>22018.417441</td>\n",
              "      <td>8.059332</td>\n",
              "      <td>356.886136</td>\n",
              "      <td>363.266516</td>\n",
              "      <td>18.436524</td>\n",
              "      <td>100.341674</td>\n",
              "      <td>4.628771</td>\n",
              "      <td>0</td>\n",
              "    </tr>\n",
              "    <tr>\n",
              "      <th>4</th>\n",
              "      <td>9.092223</td>\n",
              "      <td>181.101509</td>\n",
              "      <td>17978.986339</td>\n",
              "      <td>6.546600</td>\n",
              "      <td>310.135738</td>\n",
              "      <td>398.410813</td>\n",
              "      <td>11.558279</td>\n",
              "      <td>31.997993</td>\n",
              "      <td>4.075075</td>\n",
              "      <td>0</td>\n",
              "    </tr>\n",
              "    <tr>\n",
              "      <th>...</th>\n",
              "      <td>...</td>\n",
              "      <td>...</td>\n",
              "      <td>...</td>\n",
              "      <td>...</td>\n",
              "      <td>...</td>\n",
              "      <td>...</td>\n",
              "      <td>...</td>\n",
              "      <td>...</td>\n",
              "      <td>...</td>\n",
              "      <td>...</td>\n",
              "    </tr>\n",
              "    <tr>\n",
              "      <th>3271</th>\n",
              "      <td>4.668102</td>\n",
              "      <td>193.681735</td>\n",
              "      <td>47580.991603</td>\n",
              "      <td>7.166639</td>\n",
              "      <td>359.948574</td>\n",
              "      <td>526.424171</td>\n",
              "      <td>13.894419</td>\n",
              "      <td>66.687695</td>\n",
              "      <td>4.435821</td>\n",
              "      <td>1</td>\n",
              "    </tr>\n",
              "    <tr>\n",
              "      <th>3272</th>\n",
              "      <td>7.808856</td>\n",
              "      <td>193.553212</td>\n",
              "      <td>17329.802160</td>\n",
              "      <td>8.061362</td>\n",
              "      <td>NaN</td>\n",
              "      <td>392.449580</td>\n",
              "      <td>19.903225</td>\n",
              "      <td>NaN</td>\n",
              "      <td>2.798243</td>\n",
              "      <td>1</td>\n",
              "    </tr>\n",
              "    <tr>\n",
              "      <th>3273</th>\n",
              "      <td>9.419510</td>\n",
              "      <td>175.762646</td>\n",
              "      <td>33155.578218</td>\n",
              "      <td>7.350233</td>\n",
              "      <td>NaN</td>\n",
              "      <td>432.044783</td>\n",
              "      <td>11.039070</td>\n",
              "      <td>69.845400</td>\n",
              "      <td>3.298875</td>\n",
              "      <td>1</td>\n",
              "    </tr>\n",
              "    <tr>\n",
              "      <th>3274</th>\n",
              "      <td>5.126763</td>\n",
              "      <td>230.603758</td>\n",
              "      <td>11983.869376</td>\n",
              "      <td>6.303357</td>\n",
              "      <td>NaN</td>\n",
              "      <td>402.883113</td>\n",
              "      <td>11.168946</td>\n",
              "      <td>77.488213</td>\n",
              "      <td>4.708658</td>\n",
              "      <td>1</td>\n",
              "    </tr>\n",
              "    <tr>\n",
              "      <th>3275</th>\n",
              "      <td>7.874671</td>\n",
              "      <td>195.102299</td>\n",
              "      <td>17404.177061</td>\n",
              "      <td>7.509306</td>\n",
              "      <td>NaN</td>\n",
              "      <td>327.459760</td>\n",
              "      <td>16.140368</td>\n",
              "      <td>78.698446</td>\n",
              "      <td>2.309149</td>\n",
              "      <td>1</td>\n",
              "    </tr>\n",
              "  </tbody>\n",
              "</table>\n",
              "<p>3276 rows × 10 columns</p>\n",
              "</div>\n",
              "      <button class=\"colab-df-convert\" onclick=\"convertToInteractive('df-411db1f4-94b3-4fca-9897-8f29fa2e9551')\"\n",
              "              title=\"Convert this dataframe to an interactive table.\"\n",
              "              style=\"display:none;\">\n",
              "        \n",
              "  <svg xmlns=\"http://www.w3.org/2000/svg\" height=\"24px\"viewBox=\"0 0 24 24\"\n",
              "       width=\"24px\">\n",
              "    <path d=\"M0 0h24v24H0V0z\" fill=\"none\"/>\n",
              "    <path d=\"M18.56 5.44l.94 2.06.94-2.06 2.06-.94-2.06-.94-.94-2.06-.94 2.06-2.06.94zm-11 1L8.5 8.5l.94-2.06 2.06-.94-2.06-.94L8.5 2.5l-.94 2.06-2.06.94zm10 10l.94 2.06.94-2.06 2.06-.94-2.06-.94-.94-2.06-.94 2.06-2.06.94z\"/><path d=\"M17.41 7.96l-1.37-1.37c-.4-.4-.92-.59-1.43-.59-.52 0-1.04.2-1.43.59L10.3 9.45l-7.72 7.72c-.78.78-.78 2.05 0 2.83L4 21.41c.39.39.9.59 1.41.59.51 0 1.02-.2 1.41-.59l7.78-7.78 2.81-2.81c.8-.78.8-2.07 0-2.86zM5.41 20L4 18.59l7.72-7.72 1.47 1.35L5.41 20z\"/>\n",
              "  </svg>\n",
              "      </button>\n",
              "      \n",
              "  <style>\n",
              "    .colab-df-container {\n",
              "      display:flex;\n",
              "      flex-wrap:wrap;\n",
              "      gap: 12px;\n",
              "    }\n",
              "\n",
              "    .colab-df-convert {\n",
              "      background-color: #E8F0FE;\n",
              "      border: none;\n",
              "      border-radius: 50%;\n",
              "      cursor: pointer;\n",
              "      display: none;\n",
              "      fill: #1967D2;\n",
              "      height: 32px;\n",
              "      padding: 0 0 0 0;\n",
              "      width: 32px;\n",
              "    }\n",
              "\n",
              "    .colab-df-convert:hover {\n",
              "      background-color: #E2EBFA;\n",
              "      box-shadow: 0px 1px 2px rgba(60, 64, 67, 0.3), 0px 1px 3px 1px rgba(60, 64, 67, 0.15);\n",
              "      fill: #174EA6;\n",
              "    }\n",
              "\n",
              "    [theme=dark] .colab-df-convert {\n",
              "      background-color: #3B4455;\n",
              "      fill: #D2E3FC;\n",
              "    }\n",
              "\n",
              "    [theme=dark] .colab-df-convert:hover {\n",
              "      background-color: #434B5C;\n",
              "      box-shadow: 0px 1px 3px 1px rgba(0, 0, 0, 0.15);\n",
              "      filter: drop-shadow(0px 1px 2px rgba(0, 0, 0, 0.3));\n",
              "      fill: #FFFFFF;\n",
              "    }\n",
              "  </style>\n",
              "\n",
              "      <script>\n",
              "        const buttonEl =\n",
              "          document.querySelector('#df-411db1f4-94b3-4fca-9897-8f29fa2e9551 button.colab-df-convert');\n",
              "        buttonEl.style.display =\n",
              "          google.colab.kernel.accessAllowed ? 'block' : 'none';\n",
              "\n",
              "        async function convertToInteractive(key) {\n",
              "          const element = document.querySelector('#df-411db1f4-94b3-4fca-9897-8f29fa2e9551');\n",
              "          const dataTable =\n",
              "            await google.colab.kernel.invokeFunction('convertToInteractive',\n",
              "                                                     [key], {});\n",
              "          if (!dataTable) return;\n",
              "\n",
              "          const docLinkHtml = 'Like what you see? Visit the ' +\n",
              "            '<a target=\"_blank\" href=https://colab.research.google.com/notebooks/data_table.ipynb>data table notebook</a>'\n",
              "            + ' to learn more about interactive tables.';\n",
              "          element.innerHTML = '';\n",
              "          dataTable['output_type'] = 'display_data';\n",
              "          await google.colab.output.renderOutput(dataTable, element);\n",
              "          const docLink = document.createElement('div');\n",
              "          docLink.innerHTML = docLinkHtml;\n",
              "          element.appendChild(docLink);\n",
              "        }\n",
              "      </script>\n",
              "    </div>\n",
              "  </div>\n",
              "  "
            ]
          },
          "metadata": {},
          "execution_count": 3
        }
      ],
      "source": [
        "df"
      ]
    },
    {
      "cell_type": "code",
      "execution_count": 4,
      "metadata": {
        "colab": {
          "base_uri": "https://localhost:8080/"
        },
        "id": "J6Aqndgxzm0Y",
        "outputId": "dfa5045c-5eaa-4c62-9080-c67bd9fee23b"
      },
      "outputs": [
        {
          "output_type": "execute_result",
          "data": {
            "text/plain": [
              "ph                 491\n",
              "Hardness             0\n",
              "Solids               0\n",
              "Chloramines          0\n",
              "Sulfate            781\n",
              "Conductivity         0\n",
              "Organic_carbon       0\n",
              "Trihalomethanes    162\n",
              "Turbidity            0\n",
              "Potability           0\n",
              "dtype: int64"
            ]
          },
          "metadata": {},
          "execution_count": 4
        }
      ],
      "source": [
        "df.isnull().sum()"
      ]
    },
    {
      "cell_type": "code",
      "execution_count": 5,
      "metadata": {
        "id": "dEKfZmTvzqbW"
      },
      "outputs": [],
      "source": [
        "from sklearn.impute import SimpleImputer"
      ]
    },
    {
      "cell_type": "code",
      "execution_count": 6,
      "metadata": {
        "id": "1SdnJgi50QiJ"
      },
      "outputs": [],
      "source": [
        "SI = SimpleImputer(missing_values=np.nan,strategy=\"mean\")\n",
        "df[[\"pd\",\"Sulfate\"]] = SI.fit_transform(df[[\"ph\",\"Sulfate\"]])"
      ]
    },
    {
      "cell_type": "code",
      "execution_count": 7,
      "metadata": {
        "colab": {
          "base_uri": "https://localhost:8080/"
        },
        "id": "BjEUJlU22p6S",
        "outputId": "df332678-d815-4a98-b4a6-7cbc64176d04"
      },
      "outputs": [
        {
          "output_type": "execute_result",
          "data": {
            "text/plain": [
              "ph                 0\n",
              "Hardness           0\n",
              "Solids             0\n",
              "Chloramines        0\n",
              "Sulfate            0\n",
              "Conductivity       0\n",
              "Organic_carbon     0\n",
              "Trihalomethanes    0\n",
              "Turbidity          0\n",
              "Potability         0\n",
              "dtype: int64"
            ]
          },
          "metadata": {},
          "execution_count": 7
        }
      ],
      "source": [
        "df.dropna(inplace = True)\n",
        "df.drop(\"pd\",axis = 1,inplace = True)\n",
        "df.isnull().sum()"
      ]
    },
    {
      "cell_type": "code",
      "execution_count": 8,
      "metadata": {
        "colab": {
          "base_uri": "https://localhost:8080/",
          "height": 344
        },
        "id": "JNssXEpR38Wy",
        "outputId": "1757a8e0-61c6-4d68-8165-7bf6a2666033"
      },
      "outputs": [
        {
          "output_type": "execute_result",
          "data": {
            "text/plain": [
              "                ph     Hardness        Solids  Chloramines      Sulfate  \\\n",
              "count  2649.000000  2649.000000   2649.000000  2649.000000  2649.000000   \n",
              "mean      7.080149   196.334521  21923.811170     7.127005   333.357403   \n",
              "std       1.584537    32.892158   8692.441264     1.586310    35.900470   \n",
              "min       0.000000    73.492234    320.942611     0.530351   129.000000   \n",
              "25%       6.091383   176.808661  15671.119287     6.137757   316.567319   \n",
              "50%       7.038092   197.191839  20852.764496     7.121264   333.775777   \n",
              "75%       8.054886   216.673869  27215.902742     8.108318   349.492177   \n",
              "max      14.000000   323.124000  56867.859236    13.127000   481.030642   \n",
              "\n",
              "       Conductivity  Organic_carbon  Trihalomethanes    Turbidity   Potability  \n",
              "count   2649.000000     2649.000000      2649.000000  2649.000000  2649.000000  \n",
              "mean     427.588395       14.302738        66.491551     3.969699     0.397131  \n",
              "std       81.103742        3.314805        16.162351     0.780571     0.489396  \n",
              "min      181.483754        2.200000         0.738000     1.450000     0.000000  \n",
              "25%      367.897563       12.095251        55.968217     3.445756     0.000000  \n",
              "50%      424.003499       14.252684        66.608891     3.958609     0.000000  \n",
              "75%      483.745716       16.575981        77.457885     4.511384     1.000000  \n",
              "max      753.342620       27.006707       124.000000     6.494749     1.000000  "
            ],
            "text/html": [
              "\n",
              "  <div id=\"df-af72f7d5-f3d8-457e-8818-71f733624d5c\">\n",
              "    <div class=\"colab-df-container\">\n",
              "      <div>\n",
              "<style scoped>\n",
              "    .dataframe tbody tr th:only-of-type {\n",
              "        vertical-align: middle;\n",
              "    }\n",
              "\n",
              "    .dataframe tbody tr th {\n",
              "        vertical-align: top;\n",
              "    }\n",
              "\n",
              "    .dataframe thead th {\n",
              "        text-align: right;\n",
              "    }\n",
              "</style>\n",
              "<table border=\"1\" class=\"dataframe\">\n",
              "  <thead>\n",
              "    <tr style=\"text-align: right;\">\n",
              "      <th></th>\n",
              "      <th>ph</th>\n",
              "      <th>Hardness</th>\n",
              "      <th>Solids</th>\n",
              "      <th>Chloramines</th>\n",
              "      <th>Sulfate</th>\n",
              "      <th>Conductivity</th>\n",
              "      <th>Organic_carbon</th>\n",
              "      <th>Trihalomethanes</th>\n",
              "      <th>Turbidity</th>\n",
              "      <th>Potability</th>\n",
              "    </tr>\n",
              "  </thead>\n",
              "  <tbody>\n",
              "    <tr>\n",
              "      <th>count</th>\n",
              "      <td>2649.000000</td>\n",
              "      <td>2649.000000</td>\n",
              "      <td>2649.000000</td>\n",
              "      <td>2649.000000</td>\n",
              "      <td>2649.000000</td>\n",
              "      <td>2649.000000</td>\n",
              "      <td>2649.000000</td>\n",
              "      <td>2649.000000</td>\n",
              "      <td>2649.000000</td>\n",
              "      <td>2649.000000</td>\n",
              "    </tr>\n",
              "    <tr>\n",
              "      <th>mean</th>\n",
              "      <td>7.080149</td>\n",
              "      <td>196.334521</td>\n",
              "      <td>21923.811170</td>\n",
              "      <td>7.127005</td>\n",
              "      <td>333.357403</td>\n",
              "      <td>427.588395</td>\n",
              "      <td>14.302738</td>\n",
              "      <td>66.491551</td>\n",
              "      <td>3.969699</td>\n",
              "      <td>0.397131</td>\n",
              "    </tr>\n",
              "    <tr>\n",
              "      <th>std</th>\n",
              "      <td>1.584537</td>\n",
              "      <td>32.892158</td>\n",
              "      <td>8692.441264</td>\n",
              "      <td>1.586310</td>\n",
              "      <td>35.900470</td>\n",
              "      <td>81.103742</td>\n",
              "      <td>3.314805</td>\n",
              "      <td>16.162351</td>\n",
              "      <td>0.780571</td>\n",
              "      <td>0.489396</td>\n",
              "    </tr>\n",
              "    <tr>\n",
              "      <th>min</th>\n",
              "      <td>0.000000</td>\n",
              "      <td>73.492234</td>\n",
              "      <td>320.942611</td>\n",
              "      <td>0.530351</td>\n",
              "      <td>129.000000</td>\n",
              "      <td>181.483754</td>\n",
              "      <td>2.200000</td>\n",
              "      <td>0.738000</td>\n",
              "      <td>1.450000</td>\n",
              "      <td>0.000000</td>\n",
              "    </tr>\n",
              "    <tr>\n",
              "      <th>25%</th>\n",
              "      <td>6.091383</td>\n",
              "      <td>176.808661</td>\n",
              "      <td>15671.119287</td>\n",
              "      <td>6.137757</td>\n",
              "      <td>316.567319</td>\n",
              "      <td>367.897563</td>\n",
              "      <td>12.095251</td>\n",
              "      <td>55.968217</td>\n",
              "      <td>3.445756</td>\n",
              "      <td>0.000000</td>\n",
              "    </tr>\n",
              "    <tr>\n",
              "      <th>50%</th>\n",
              "      <td>7.038092</td>\n",
              "      <td>197.191839</td>\n",
              "      <td>20852.764496</td>\n",
              "      <td>7.121264</td>\n",
              "      <td>333.775777</td>\n",
              "      <td>424.003499</td>\n",
              "      <td>14.252684</td>\n",
              "      <td>66.608891</td>\n",
              "      <td>3.958609</td>\n",
              "      <td>0.000000</td>\n",
              "    </tr>\n",
              "    <tr>\n",
              "      <th>75%</th>\n",
              "      <td>8.054886</td>\n",
              "      <td>216.673869</td>\n",
              "      <td>27215.902742</td>\n",
              "      <td>8.108318</td>\n",
              "      <td>349.492177</td>\n",
              "      <td>483.745716</td>\n",
              "      <td>16.575981</td>\n",
              "      <td>77.457885</td>\n",
              "      <td>4.511384</td>\n",
              "      <td>1.000000</td>\n",
              "    </tr>\n",
              "    <tr>\n",
              "      <th>max</th>\n",
              "      <td>14.000000</td>\n",
              "      <td>323.124000</td>\n",
              "      <td>56867.859236</td>\n",
              "      <td>13.127000</td>\n",
              "      <td>481.030642</td>\n",
              "      <td>753.342620</td>\n",
              "      <td>27.006707</td>\n",
              "      <td>124.000000</td>\n",
              "      <td>6.494749</td>\n",
              "      <td>1.000000</td>\n",
              "    </tr>\n",
              "  </tbody>\n",
              "</table>\n",
              "</div>\n",
              "      <button class=\"colab-df-convert\" onclick=\"convertToInteractive('df-af72f7d5-f3d8-457e-8818-71f733624d5c')\"\n",
              "              title=\"Convert this dataframe to an interactive table.\"\n",
              "              style=\"display:none;\">\n",
              "        \n",
              "  <svg xmlns=\"http://www.w3.org/2000/svg\" height=\"24px\"viewBox=\"0 0 24 24\"\n",
              "       width=\"24px\">\n",
              "    <path d=\"M0 0h24v24H0V0z\" fill=\"none\"/>\n",
              "    <path d=\"M18.56 5.44l.94 2.06.94-2.06 2.06-.94-2.06-.94-.94-2.06-.94 2.06-2.06.94zm-11 1L8.5 8.5l.94-2.06 2.06-.94-2.06-.94L8.5 2.5l-.94 2.06-2.06.94zm10 10l.94 2.06.94-2.06 2.06-.94-2.06-.94-.94-2.06-.94 2.06-2.06.94z\"/><path d=\"M17.41 7.96l-1.37-1.37c-.4-.4-.92-.59-1.43-.59-.52 0-1.04.2-1.43.59L10.3 9.45l-7.72 7.72c-.78.78-.78 2.05 0 2.83L4 21.41c.39.39.9.59 1.41.59.51 0 1.02-.2 1.41-.59l7.78-7.78 2.81-2.81c.8-.78.8-2.07 0-2.86zM5.41 20L4 18.59l7.72-7.72 1.47 1.35L5.41 20z\"/>\n",
              "  </svg>\n",
              "      </button>\n",
              "      \n",
              "  <style>\n",
              "    .colab-df-container {\n",
              "      display:flex;\n",
              "      flex-wrap:wrap;\n",
              "      gap: 12px;\n",
              "    }\n",
              "\n",
              "    .colab-df-convert {\n",
              "      background-color: #E8F0FE;\n",
              "      border: none;\n",
              "      border-radius: 50%;\n",
              "      cursor: pointer;\n",
              "      display: none;\n",
              "      fill: #1967D2;\n",
              "      height: 32px;\n",
              "      padding: 0 0 0 0;\n",
              "      width: 32px;\n",
              "    }\n",
              "\n",
              "    .colab-df-convert:hover {\n",
              "      background-color: #E2EBFA;\n",
              "      box-shadow: 0px 1px 2px rgba(60, 64, 67, 0.3), 0px 1px 3px 1px rgba(60, 64, 67, 0.15);\n",
              "      fill: #174EA6;\n",
              "    }\n",
              "\n",
              "    [theme=dark] .colab-df-convert {\n",
              "      background-color: #3B4455;\n",
              "      fill: #D2E3FC;\n",
              "    }\n",
              "\n",
              "    [theme=dark] .colab-df-convert:hover {\n",
              "      background-color: #434B5C;\n",
              "      box-shadow: 0px 1px 3px 1px rgba(0, 0, 0, 0.15);\n",
              "      filter: drop-shadow(0px 1px 2px rgba(0, 0, 0, 0.3));\n",
              "      fill: #FFFFFF;\n",
              "    }\n",
              "  </style>\n",
              "\n",
              "      <script>\n",
              "        const buttonEl =\n",
              "          document.querySelector('#df-af72f7d5-f3d8-457e-8818-71f733624d5c button.colab-df-convert');\n",
              "        buttonEl.style.display =\n",
              "          google.colab.kernel.accessAllowed ? 'block' : 'none';\n",
              "\n",
              "        async function convertToInteractive(key) {\n",
              "          const element = document.querySelector('#df-af72f7d5-f3d8-457e-8818-71f733624d5c');\n",
              "          const dataTable =\n",
              "            await google.colab.kernel.invokeFunction('convertToInteractive',\n",
              "                                                     [key], {});\n",
              "          if (!dataTable) return;\n",
              "\n",
              "          const docLinkHtml = 'Like what you see? Visit the ' +\n",
              "            '<a target=\"_blank\" href=https://colab.research.google.com/notebooks/data_table.ipynb>data table notebook</a>'\n",
              "            + ' to learn more about interactive tables.';\n",
              "          element.innerHTML = '';\n",
              "          dataTable['output_type'] = 'display_data';\n",
              "          await google.colab.output.renderOutput(dataTable, element);\n",
              "          const docLink = document.createElement('div');\n",
              "          docLink.innerHTML = docLinkHtml;\n",
              "          element.appendChild(docLink);\n",
              "        }\n",
              "      </script>\n",
              "    </div>\n",
              "  </div>\n",
              "  "
            ]
          },
          "metadata": {},
          "execution_count": 8
        }
      ],
      "source": [
        "df.describe()"
      ]
    },
    {
      "cell_type": "code",
      "execution_count": 9,
      "metadata": {
        "colab": {
          "base_uri": "https://localhost:8080/",
          "height": 513
        },
        "id": "A0YNj9rT4ach",
        "outputId": "7f16751e-b639-479a-a481-54fa504b7cde"
      },
      "outputs": [
        {
          "output_type": "display_data",
          "data": {
            "text/plain": [
              "<Figure size 720x504 with 2 Axes>"
            ],
            "image/png": "[encoded data removed]"
          },
          "metadata": {
            "needs_background": "light"
          }
        }
      ],
      "source": [
        "plt.figure(figsize= (10,7))\n",
        "sns.heatmap(df.corr(),cmap='coolwarm', annot=True)\n",
        "plt.title('correlation between the columns')\n",
        "plt.tight_layout()\n",
        "plt.show()"
      ]
    },
    {
      "cell_type": "code",
      "execution_count": 10,
      "metadata": {
        "colab": {
          "base_uri": "https://localhost:8080/"
        },
        "id": "QfVJ78YP5iK4",
        "outputId": "3e8fb4ec-f7b2-4d93-d375-e5fe769b4ae8"
      },
      "outputs": [
        {
          "output_type": "execute_result",
          "data": {
            "text/plain": [
              "0    1597\n",
              "1    1052\n",
              "Name: Potability, dtype: int64"
            ]
          },
          "metadata": {},
          "execution_count": 10
        }
      ],
      "source": [
        "df[\"Potability\"].value_counts()"
      ]
    },
    {
      "cell_type": "code",
      "execution_count": 11,
      "metadata": {
        "id": "ch42aCJR6IGT"
      },
      "outputs": [],
      "source": [
        "x = df.drop([\"Potability\"],axis = 1)\n",
        "y = df[\"Potability\"]"
      ]
    },
    {
      "cell_type": "code",
      "execution_count": 12,
      "metadata": {
        "id": "gno9QnQXDVwc"
      },
      "outputs": [],
      "source": [
        "from sklearn.preprocessing import MinMaxScaler\n",
        "mm = MinMaxScaler()\n",
        "x = mm.fit_transform(x)"
      ]
    },
    {
      "cell_type": "code",
      "execution_count": 13,
      "metadata": {
        "id": "lr74LDH16bdA"
      },
      "outputs": [],
      "source": [
        "from sklearn.model_selection import train_test_split"
      ]
    },
    {
      "cell_type": "code",
      "execution_count": 14,
      "metadata": {
        "id": "LB6X06oT6qi1"
      },
      "outputs": [],
      "source": [
        "xtrain,xtest,ytrain,ytest = train_test_split(x,y,random_state=1,test_size=0.25)"
      ]
    },
    {
      "cell_type": "code",
      "execution_count": 15,
      "metadata": {
        "colab": {
          "base_uri": "https://localhost:8080/"
        },
        "id": "DOsjrpwy67sr",
        "outputId": "e7682575-44ee-480a-b226-9d95509052a2"
      },
      "outputs": [
        {
          "output_type": "execute_result",
          "data": {
            "text/plain": [
              "0    1199\n",
              "1     787\n",
              "Name: Potability, dtype: int64"
            ]
          },
          "metadata": {},
          "execution_count": 15
        }
      ],
      "source": [
        "ytrain.value_counts()"
      ]
    },
    {
      "cell_type": "code",
      "execution_count": 16,
      "metadata": {
        "colab": {
          "base_uri": "https://localhost:8080/"
        },
        "id": "VjPOa2w27CxE",
        "outputId": "d24150d4-ade8-4bb3-99de-1ee2de261c77"
      },
      "outputs": [
        {
          "output_type": "execute_result",
          "data": {
            "text/plain": [
              "0    398\n",
              "1    265\n",
              "Name: Potability, dtype: int64"
            ]
          },
          "metadata": {},
          "execution_count": 16
        }
      ],
      "source": [
        "ytest.value_counts()"
      ]
    },
    {
      "cell_type": "code",
      "execution_count": 17,
      "metadata": {
        "id": "jkm38TEM7Mwr"
      },
      "outputs": [],
      "source": [
        "from tensorflow.keras import Sequential\n",
        "from tensorflow.keras.layers import Dense  \n",
        "from tensorflow.keras.layers import Dropout"
      ]
    },
    {
      "cell_type": "code",
      "execution_count": 18,
      "metadata": {
        "colab": {
          "base_uri": "https://localhost:8080/",
          "height": 1000
        },
        "id": "vnEcH9zkMyuq",
        "outputId": "2aeb4a48-466c-42f7-82cc-2f8ad83db6d2"
      },
      "outputs": [
        {
          "output_type": "stream",
          "name": "stdout",
          "text": [
            "Epoch 1/100\n",
            "63/63 [==============================] - 1s 6ms/step - loss: 0.6736 - val_loss: 0.6742\n",
            "Epoch 2/100\n",
            "63/63 [==============================] - 0s 3ms/step - loss: 0.6715 - val_loss: 0.6743\n",
            "Epoch 3/100\n",
            "63/63 [==============================] - 0s 3ms/step - loss: 0.6712 - val_loss: 0.6743\n",
            "Epoch 4/100\n",
            "63/63 [==============================] - 0s 8ms/step - loss: 0.6706 - val_loss: 0.6737\n",
            "Epoch 5/100\n",
            "63/63 [==============================] - 0s 5ms/step - loss: 0.6711 - val_loss: 0.6742\n",
            "Epoch 6/100\n",
            "63/63 [==============================] - 0s 5ms/step - loss: 0.6698 - val_loss: 0.6736\n",
            "Epoch 7/100\n",
            "63/63 [==============================] - 0s 8ms/step - loss: 0.6702 - val_loss: 0.6735\n",
            "Epoch 8/100\n",
            "63/63 [==============================] - 0s 5ms/step - loss: 0.6693 - val_loss: 0.6728\n",
            "Epoch 9/100\n",
            "63/63 [==============================] - 0s 7ms/step - loss: 0.6687 - val_loss: 0.6725\n",
            "Epoch 10/100\n",
            "63/63 [==============================] - 0s 6ms/step - loss: 0.6684 - val_loss: 0.6733\n",
            "Epoch 11/100\n",
            "63/63 [==============================] - 0s 7ms/step - loss: 0.6673 - val_loss: 0.6734\n",
            "Epoch 12/100\n",
            "63/63 [==============================] - 0s 6ms/step - loss: 0.6676 - val_loss: 0.6715\n",
            "Epoch 13/100\n",
            "63/63 [==============================] - 0s 7ms/step - loss: 0.6657 - val_loss: 0.6736\n",
            "Epoch 14/100\n",
            "63/63 [==============================] - 0s 7ms/step - loss: 0.6662 - val_loss: 0.6714\n",
            "Epoch 15/100\n",
            "63/63 [==============================] - 1s 9ms/step - loss: 0.6648 - val_loss: 0.6698\n",
            "Epoch 16/100\n",
            "63/63 [==============================] - 0s 7ms/step - loss: 0.6626 - val_loss: 0.6704\n",
            "Epoch 17/100\n",
            "63/63 [==============================] - 0s 6ms/step - loss: 0.6627 - val_loss: 0.6684\n",
            "Epoch 18/100\n",
            "63/63 [==============================] - 0s 5ms/step - loss: 0.6618 - val_loss: 0.6679\n",
            "Epoch 19/100\n",
            "63/63 [==============================] - 0s 7ms/step - loss: 0.6588 - val_loss: 0.6666\n",
            "Epoch 20/100\n",
            "63/63 [==============================] - 0s 6ms/step - loss: 0.6581 - val_loss: 0.6656\n",
            "Epoch 21/100\n",
            "63/63 [==============================] - 0s 7ms/step - loss: 0.6565 - val_loss: 0.6633\n",
            "Epoch 22/100\n",
            "63/63 [==============================] - 0s 8ms/step - loss: 0.6556 - val_loss: 0.6618\n",
            "Epoch 23/100\n",
            "63/63 [==============================] - 0s 7ms/step - loss: 0.6518 - val_loss: 0.6614\n",
            "Epoch 24/100\n",
            "63/63 [==============================] - 0s 8ms/step - loss: 0.6499 - val_loss: 0.6598\n",
            "Epoch 25/100\n",
            "63/63 [==============================] - 0s 5ms/step - loss: 0.6467 - val_loss: 0.6581\n",
            "Epoch 26/100\n",
            "63/63 [==============================] - 0s 7ms/step - loss: 0.6446 - val_loss: 0.6598\n",
            "Epoch 27/100\n",
            "63/63 [==============================] - 1s 8ms/step - loss: 0.6447 - val_loss: 0.6556\n",
            "Epoch 28/100\n",
            "63/63 [==============================] - 0s 8ms/step - loss: 0.6393 - val_loss: 0.6548\n",
            "Epoch 29/100\n",
            "63/63 [==============================] - 0s 6ms/step - loss: 0.6377 - val_loss: 0.6552\n",
            "Epoch 30/100\n",
            "63/63 [==============================] - 0s 7ms/step - loss: 0.6348 - val_loss: 0.6504\n",
            "Epoch 31/100\n",
            "63/63 [==============================] - 1s 9ms/step - loss: 0.6323 - val_loss: 0.6491\n",
            "Epoch 32/100\n",
            "63/63 [==============================] - 0s 6ms/step - loss: 0.6265 - val_loss: 0.6493\n",
            "Epoch 33/100\n",
            "63/63 [==============================] - 0s 5ms/step - loss: 0.6252 - val_loss: 0.6474\n",
            "Epoch 34/100\n",
            "63/63 [==============================] - 0s 5ms/step - loss: 0.6214 - val_loss: 0.6458\n",
            "Epoch 35/100\n",
            "63/63 [==============================] - 1s 10ms/step - loss: 0.6204 - val_loss: 0.6441\n",
            "Epoch 36/100\n",
            "63/63 [==============================] - 0s 7ms/step - loss: 0.6171 - val_loss: 0.6435\n",
            "Epoch 37/100\n",
            "63/63 [==============================] - 1s 8ms/step - loss: 0.6149 - val_loss: 0.6423\n",
            "Epoch 38/100\n",
            "63/63 [==============================] - 0s 7ms/step - loss: 0.6160 - val_loss: 0.6460\n",
            "Epoch 39/100\n",
            "63/63 [==============================] - 0s 7ms/step - loss: 0.6106 - val_loss: 0.6403\n",
            "Epoch 40/100\n",
            "63/63 [==============================] - 1s 9ms/step - loss: 0.6102 - val_loss: 0.6457\n",
            "Epoch 41/100\n",
            "63/63 [==============================] - 1s 8ms/step - loss: 0.6047 - val_loss: 0.6391\n",
            "Epoch 42/100\n",
            "63/63 [==============================] - 1s 9ms/step - loss: 0.6041 - val_loss: 0.6386\n",
            "Epoch 43/100\n",
            "63/63 [==============================] - 0s 8ms/step - loss: 0.6067 - val_loss: 0.6412\n",
            "Epoch 44/100\n",
            "63/63 [==============================] - 0s 6ms/step - loss: 0.6038 - val_loss: 0.6372\n",
            "Epoch 45/100\n",
            "63/63 [==============================] - 1s 8ms/step - loss: 0.6006 - val_loss: 0.6385\n",
            "Epoch 46/100\n",
            "63/63 [==============================] - 0s 7ms/step - loss: 0.5976 - val_loss: 0.6366\n",
            "Epoch 47/100\n",
            "63/63 [==============================] - 0s 6ms/step - loss: 0.5959 - val_loss: 0.6365\n",
            "Epoch 48/100\n",
            "63/63 [==============================] - 0s 7ms/step - loss: 0.5945 - val_loss: 0.6354\n",
            "Epoch 49/100\n",
            "63/63 [==============================] - 0s 6ms/step - loss: 0.5963 - val_loss: 0.6352\n",
            "Epoch 50/100\n",
            "63/63 [==============================] - 1s 11ms/step - loss: 0.5920 - val_loss: 0.6464\n",
            "Epoch 51/100\n",
            "63/63 [==============================] - 1s 17ms/step - loss: 0.5906 - val_loss: 0.6368\n",
            "Epoch 52/100\n",
            "63/63 [==============================] - 1s 11ms/step - loss: 0.5894 - val_loss: 0.6361\n",
            "Epoch 53/100\n",
            "63/63 [==============================] - 0s 6ms/step - loss: 0.5906 - val_loss: 0.6394\n",
            "Epoch 54/100\n",
            "63/63 [==============================] - 1s 13ms/step - loss: 0.5883 - val_loss: 0.6383\n",
            "Epoch 55/100\n",
            "63/63 [==============================] - 0s 7ms/step - loss: 0.5859 - val_loss: 0.6363\n",
            "Epoch 56/100\n",
            "63/63 [==============================] - 0s 3ms/step - loss: 0.5860 - val_loss: 0.6356\n",
            "Epoch 57/100\n",
            "63/63 [==============================] - 0s 3ms/step - loss: 0.5871 - val_loss: 0.6375\n",
            "Epoch 58/100\n",
            "63/63 [==============================] - 0s 3ms/step - loss: 0.5843 - val_loss: 0.6378\n",
            "Epoch 59/100\n",
            "63/63 [==============================] - 0s 3ms/step - loss: 0.5838 - val_loss: 0.6381\n",
            "Epoch 60/100\n",
            "63/63 [==============================] - 0s 4ms/step - loss: 0.5816 - val_loss: 0.6414\n",
            "Epoch 61/100\n",
            "63/63 [==============================] - 0s 3ms/step - loss: 0.5803 - val_loss: 0.6364\n",
            "Epoch 62/100\n",
            "63/63 [==============================] - 0s 3ms/step - loss: 0.5803 - val_loss: 0.6372\n",
            "Epoch 63/100\n",
            "63/63 [==============================] - 0s 3ms/step - loss: 0.5783 - val_loss: 0.6396\n",
            "Epoch 64/100\n",
            "63/63 [==============================] - 0s 3ms/step - loss: 0.5806 - val_loss: 0.6363\n",
            "Epoch 65/100\n",
            "63/63 [==============================] - 0s 4ms/step - loss: 0.5789 - val_loss: 0.6361\n",
            "Epoch 66/100\n",
            "63/63 [==============================] - 0s 4ms/step - loss: 0.5800 - val_loss: 0.6369\n",
            "Epoch 67/100\n",
            "63/63 [==============================] - 0s 3ms/step - loss: 0.5803 - val_loss: 0.6372\n",
            "Epoch 68/100\n",
            "63/63 [==============================] - 0s 3ms/step - loss: 0.5776 - val_loss: 0.6372\n",
            "Epoch 69/100\n",
            "63/63 [==============================] - 0s 4ms/step - loss: 0.5782 - val_loss: 0.6368\n",
            "Epoch 70/100\n",
            "63/63 [==============================] - 0s 4ms/step - loss: 0.5783 - val_loss: 0.6394\n",
            "Epoch 71/100\n",
            "63/63 [==============================] - 0s 4ms/step - loss: 0.5784 - val_loss: 0.6373\n",
            "Epoch 72/100\n",
            "63/63 [==============================] - 0s 4ms/step - loss: 0.5755 - val_loss: 0.6381\n",
            "Epoch 73/100\n",
            "63/63 [==============================] - 0s 4ms/step - loss: 0.5758 - val_loss: 0.6434\n",
            "Epoch 74/100\n",
            "63/63 [==============================] - 0s 4ms/step - loss: 0.5759 - val_loss: 0.6460\n",
            "Epoch 75/100\n",
            "63/63 [==============================] - 0s 4ms/step - loss: 0.5751 - val_loss: 0.6445\n",
            "Epoch 76/100\n",
            "63/63 [==============================] - 0s 3ms/step - loss: 0.5770 - val_loss: 0.6362\n",
            "Epoch 77/100\n",
            "63/63 [==============================] - 0s 4ms/step - loss: 0.5737 - val_loss: 0.6436\n",
            "Epoch 78/100\n",
            "63/63 [==============================] - 0s 4ms/step - loss: 0.5754 - val_loss: 0.6386\n",
            "Epoch 79/100\n",
            "63/63 [==============================] - 0s 4ms/step - loss: 0.5744 - val_loss: 0.6438\n",
            "Epoch 80/100\n",
            "63/63 [==============================] - 0s 4ms/step - loss: 0.5748 - val_loss: 0.6379\n",
            "Epoch 81/100\n",
            "63/63 [==============================] - 0s 4ms/step - loss: 0.5723 - val_loss: 0.6377\n",
            "Epoch 82/100\n",
            "63/63 [==============================] - 0s 3ms/step - loss: 0.5739 - val_loss: 0.6430\n",
            "Epoch 83/100\n",
            "63/63 [==============================] - 0s 4ms/step - loss: 0.5749 - val_loss: 0.6378\n",
            "Epoch 84/100\n",
            "63/63 [==============================] - 0s 4ms/step - loss: 0.5737 - val_loss: 0.6374\n",
            "Epoch 85/100\n",
            "63/63 [==============================] - 0s 3ms/step - loss: 0.5747 - val_loss: 0.6405\n",
            "Epoch 86/100\n",
            "63/63 [==============================] - 0s 3ms/step - loss: 0.5744 - val_loss: 0.6387\n",
            "Epoch 87/100\n",
            "63/63 [==============================] - 0s 4ms/step - loss: 0.5705 - val_loss: 0.6401\n",
            "Epoch 88/100\n",
            "63/63 [==============================] - 0s 4ms/step - loss: 0.5706 - val_loss: 0.6379\n",
            "Epoch 89/100\n",
            "63/63 [==============================] - 0s 3ms/step - loss: 0.5732 - val_loss: 0.6483\n",
            "Epoch 90/100\n",
            "63/63 [==============================] - 0s 3ms/step - loss: 0.5733 - val_loss: 0.6382\n",
            "Epoch 91/100\n",
            "63/63 [==============================] - 0s 3ms/step - loss: 0.5708 - val_loss: 0.6373\n",
            "Epoch 92/100\n",
            "63/63 [==============================] - 0s 3ms/step - loss: 0.5696 - val_loss: 0.6393\n",
            "Epoch 93/100\n",
            "63/63 [==============================] - 0s 3ms/step - loss: 0.5691 - val_loss: 0.6429\n",
            "Epoch 94/100\n",
            "63/63 [==============================] - 0s 4ms/step - loss: 0.5696 - val_loss: 0.6449\n",
            "Epoch 95/100\n",
            "63/63 [==============================] - 0s 3ms/step - loss: 0.5710 - val_loss: 0.6415\n",
            "Epoch 96/100\n",
            "63/63 [==============================] - 0s 4ms/step - loss: 0.5721 - val_loss: 0.6423\n",
            "Epoch 97/100\n",
            "63/63 [==============================] - 0s 3ms/step - loss: 0.5732 - val_loss: 0.6402\n",
            "Epoch 98/100\n",
            "63/63 [==============================] - 0s 4ms/step - loss: 0.5680 - val_loss: 0.6459\n",
            "Epoch 99/100\n",
            "63/63 [==============================] - 0s 4ms/step - loss: 0.5680 - val_loss: 0.6395\n",
            "Epoch 100/100\n",
            "63/63 [==============================] - 0s 3ms/step - loss: 0.5680 - val_loss: 0.6393\n"
          ]
        },
        {
          "output_type": "execute_result",
          "data": {
            "text/plain": [
              "<matplotlib.axes._subplots.AxesSubplot at 0x7fd053ac1bd0>"
            ]
          },
          "metadata": {},
          "execution_count": 18
        },
        {
          "output_type": "display_data",
          "data": {
            "text/plain": [
              "<Figure size 432x288 with 1 Axes>"
            ],
            "image/png": "[encoded data removed]"
          },
          "metadata": {
            "needs_background": "light"
          }
        }
      ],
      "source": [
        "ann = Sequential()\n",
        "\n",
        "ann.add(Dense(units = 30, activation = \"relu\"))\n",
        "ann.add(Dense(units = 15, activation = \"relu\"))\n",
        "ann.add(Dense(units = 1, activation = \"sigmoid\"))\n",
        "\n",
        "ann.compile(optimizer = \"adam\", loss = \"binary_crossentropy\")\n",
        "\n",
        "ann.fit(xtrain,ytrain,epochs = 100,validation_data = (xtest,ytest)) \n",
        "\n",
        "lossdf = pd.DataFrame(ann.history.history)\n",
        "lossdf.plot()"
      ]
    },
    {
      "cell_type": "code",
      "execution_count": 19,
      "metadata": {
        "id": "bhxOr0vF71zo",
        "colab": {
          "base_uri": "https://localhost:8080/"
        },
        "outputId": "1ec44916-c4ff-478a-efb6-0e6adb6ef22d"
      },
      "outputs": [
        {
          "output_type": "stream",
          "name": "stdout",
          "text": [
            "Epoch 1/100\n",
            "63/63 [==============================] - 1s 6ms/step - loss: 0.7350 - val_loss: 0.6924\n",
            "Epoch 2/100\n",
            "63/63 [==============================] - 0s 3ms/step - loss: 0.6917 - val_loss: 0.6830\n",
            "Epoch 3/100\n",
            "63/63 [==============================] - 0s 3ms/step - loss: 0.6804 - val_loss: 0.6764\n",
            "Epoch 4/100\n",
            "63/63 [==============================] - 0s 3ms/step - loss: 0.6770 - val_loss: 0.6732\n",
            "Epoch 5/100\n",
            "63/63 [==============================] - 0s 4ms/step - loss: 0.6745 - val_loss: 0.6726\n",
            "Epoch 6/100\n",
            "63/63 [==============================] - 0s 3ms/step - loss: 0.6769 - val_loss: 0.6729\n",
            "Epoch 7/100\n",
            "63/63 [==============================] - 0s 4ms/step - loss: 0.6767 - val_loss: 0.6734\n",
            "Epoch 8/100\n",
            "63/63 [==============================] - 0s 4ms/step - loss: 0.6736 - val_loss: 0.6730\n",
            "Epoch 9/100\n",
            "63/63 [==============================] - 0s 3ms/step - loss: 0.6753 - val_loss: 0.6731\n",
            "Epoch 10/100\n",
            "63/63 [==============================] - 0s 4ms/step - loss: 0.6709 - val_loss: 0.6725\n",
            "Epoch 11/100\n",
            "63/63 [==============================] - 0s 3ms/step - loss: 0.6745 - val_loss: 0.6725\n",
            "Epoch 12/100\n",
            "63/63 [==============================] - 0s 4ms/step - loss: 0.6736 - val_loss: 0.6723\n",
            "Epoch 13/100\n",
            "63/63 [==============================] - 0s 4ms/step - loss: 0.6718 - val_loss: 0.6723\n",
            "Epoch 14/100\n",
            "63/63 [==============================] - 0s 3ms/step - loss: 0.6731 - val_loss: 0.6725\n",
            "Epoch 15/100\n",
            "63/63 [==============================] - 0s 3ms/step - loss: 0.6716 - val_loss: 0.6716\n",
            "Epoch 16/100\n",
            "63/63 [==============================] - 0s 4ms/step - loss: 0.6705 - val_loss: 0.6718\n",
            "Epoch 17/100\n",
            "63/63 [==============================] - 0s 4ms/step - loss: 0.6723 - val_loss: 0.6721\n",
            "Epoch 18/100\n",
            "63/63 [==============================] - 0s 4ms/step - loss: 0.6703 - val_loss: 0.6708\n",
            "Epoch 19/100\n",
            "63/63 [==============================] - 0s 4ms/step - loss: 0.6705 - val_loss: 0.6714\n",
            "Epoch 20/100\n",
            "63/63 [==============================] - 0s 3ms/step - loss: 0.6698 - val_loss: 0.6704\n",
            "Epoch 21/100\n",
            "63/63 [==============================] - 0s 3ms/step - loss: 0.6728 - val_loss: 0.6703\n",
            "Epoch 22/100\n",
            "63/63 [==============================] - 0s 3ms/step - loss: 0.6696 - val_loss: 0.6700\n",
            "Epoch 23/100\n",
            "63/63 [==============================] - 0s 3ms/step - loss: 0.6700 - val_loss: 0.6703\n",
            "Epoch 24/100\n",
            "63/63 [==============================] - 0s 4ms/step - loss: 0.6709 - val_loss: 0.6696\n",
            "Epoch 25/100\n",
            "63/63 [==============================] - 0s 4ms/step - loss: 0.6692 - val_loss: 0.6694\n",
            "Epoch 26/100\n",
            "63/63 [==============================] - 0s 3ms/step - loss: 0.6674 - val_loss: 0.6684\n",
            "Epoch 27/100\n",
            "63/63 [==============================] - 0s 3ms/step - loss: 0.6689 - val_loss: 0.6682\n",
            "Epoch 28/100\n",
            "63/63 [==============================] - 0s 3ms/step - loss: 0.6695 - val_loss: 0.6679\n",
            "Epoch 29/100\n",
            "63/63 [==============================] - 0s 4ms/step - loss: 0.6677 - val_loss: 0.6683\n",
            "Epoch 30/100\n",
            "63/63 [==============================] - 0s 4ms/step - loss: 0.6688 - val_loss: 0.6675\n",
            "Epoch 31/100\n",
            "63/63 [==============================] - 0s 4ms/step - loss: 0.6661 - val_loss: 0.6679\n",
            "Epoch 32/100\n",
            "63/63 [==============================] - 0s 4ms/step - loss: 0.6635 - val_loss: 0.6658\n",
            "Epoch 33/100\n",
            "63/63 [==============================] - 0s 3ms/step - loss: 0.6629 - val_loss: 0.6635\n",
            "Epoch 34/100\n",
            "63/63 [==============================] - 0s 4ms/step - loss: 0.6645 - val_loss: 0.6642\n",
            "Epoch 35/100\n",
            "63/63 [==============================] - 0s 3ms/step - loss: 0.6644 - val_loss: 0.6650\n",
            "Epoch 36/100\n",
            "63/63 [==============================] - 0s 3ms/step - loss: 0.6631 - val_loss: 0.6644\n",
            "Epoch 37/100\n",
            "63/63 [==============================] - 0s 4ms/step - loss: 0.6615 - val_loss: 0.6637\n",
            "Epoch 38/100\n",
            "63/63 [==============================] - 0s 3ms/step - loss: 0.6645 - val_loss: 0.6621\n",
            "Epoch 39/100\n",
            "63/63 [==============================] - 0s 4ms/step - loss: 0.6620 - val_loss: 0.6631\n",
            "Epoch 40/100\n",
            "63/63 [==============================] - 0s 4ms/step - loss: 0.6618 - val_loss: 0.6606\n",
            "Epoch 41/100\n",
            "63/63 [==============================] - 0s 3ms/step - loss: 0.6577 - val_loss: 0.6616\n",
            "Epoch 42/100\n",
            "63/63 [==============================] - 0s 3ms/step - loss: 0.6623 - val_loss: 0.6612\n",
            "Epoch 43/100\n",
            "63/63 [==============================] - 0s 4ms/step - loss: 0.6576 - val_loss: 0.6589\n",
            "Epoch 44/100\n",
            "63/63 [==============================] - 0s 3ms/step - loss: 0.6608 - val_loss: 0.6602\n",
            "Epoch 45/100\n",
            "63/63 [==============================] - 0s 3ms/step - loss: 0.6577 - val_loss: 0.6584\n",
            "Epoch 46/100\n",
            "63/63 [==============================] - 0s 3ms/step - loss: 0.6608 - val_loss: 0.6603\n",
            "Epoch 47/100\n",
            "63/63 [==============================] - 0s 3ms/step - loss: 0.6568 - val_loss: 0.6573\n",
            "Epoch 48/100\n",
            "63/63 [==============================] - 0s 3ms/step - loss: 0.6525 - val_loss: 0.6593\n",
            "Epoch 49/100\n",
            "63/63 [==============================] - 0s 3ms/step - loss: 0.6565 - val_loss: 0.6567\n",
            "Epoch 50/100\n",
            "63/63 [==============================] - 0s 3ms/step - loss: 0.6544 - val_loss: 0.6581\n",
            "Epoch 51/100\n",
            "63/63 [==============================] - 0s 3ms/step - loss: 0.6492 - val_loss: 0.6540\n",
            "Epoch 52/100\n",
            "63/63 [==============================] - 0s 3ms/step - loss: 0.6535 - val_loss: 0.6548\n",
            "Epoch 53/100\n",
            "63/63 [==============================] - 0s 4ms/step - loss: 0.6509 - val_loss: 0.6555\n",
            "Epoch 54/100\n",
            "63/63 [==============================] - 0s 3ms/step - loss: 0.6533 - val_loss: 0.6547\n",
            "Epoch 55/100\n",
            "63/63 [==============================] - 0s 3ms/step - loss: 0.6495 - val_loss: 0.6538\n",
            "Epoch 56/100\n",
            "63/63 [==============================] - 0s 3ms/step - loss: 0.6539 - val_loss: 0.6526\n",
            "Epoch 57/100\n",
            "63/63 [==============================] - 0s 4ms/step - loss: 0.6501 - val_loss: 0.6544\n",
            "Epoch 58/100\n",
            "63/63 [==============================] - 0s 4ms/step - loss: 0.6502 - val_loss: 0.6530\n",
            "Epoch 59/100\n",
            "63/63 [==============================] - 0s 3ms/step - loss: 0.6483 - val_loss: 0.6549\n",
            "Epoch 60/100\n",
            "63/63 [==============================] - 0s 3ms/step - loss: 0.6467 - val_loss: 0.6508\n",
            "Epoch 61/100\n",
            "63/63 [==============================] - 0s 3ms/step - loss: 0.6467 - val_loss: 0.6511\n",
            "Epoch 62/100\n",
            "63/63 [==============================] - 0s 3ms/step - loss: 0.6474 - val_loss: 0.6524\n",
            "Epoch 63/100\n",
            "63/63 [==============================] - 0s 3ms/step - loss: 0.6480 - val_loss: 0.6539\n",
            "Epoch 64/100\n",
            "63/63 [==============================] - 0s 3ms/step - loss: 0.6484 - val_loss: 0.6502\n",
            "Epoch 65/100\n",
            "63/63 [==============================] - 0s 3ms/step - loss: 0.6441 - val_loss: 0.6500\n",
            "Epoch 66/100\n",
            "63/63 [==============================] - 0s 3ms/step - loss: 0.6406 - val_loss: 0.6484\n",
            "Epoch 67/100\n",
            "63/63 [==============================] - 0s 3ms/step - loss: 0.6530 - val_loss: 0.6510\n",
            "Epoch 68/100\n",
            "63/63 [==============================] - 0s 3ms/step - loss: 0.6440 - val_loss: 0.6499\n",
            "Epoch 69/100\n",
            "63/63 [==============================] - 0s 3ms/step - loss: 0.6424 - val_loss: 0.6477\n",
            "Epoch 70/100\n",
            "63/63 [==============================] - 0s 3ms/step - loss: 0.6449 - val_loss: 0.6478\n",
            "Epoch 71/100\n",
            "63/63 [==============================] - 0s 4ms/step - loss: 0.6434 - val_loss: 0.6506\n",
            "Epoch 72/100\n",
            "63/63 [==============================] - 0s 4ms/step - loss: 0.6428 - val_loss: 0.6466\n",
            "Epoch 73/100\n",
            "63/63 [==============================] - 0s 4ms/step - loss: 0.6464 - val_loss: 0.6494\n",
            "Epoch 74/100\n",
            "63/63 [==============================] - 0s 4ms/step - loss: 0.6421 - val_loss: 0.6480\n",
            "Epoch 75/100\n",
            "63/63 [==============================] - 0s 3ms/step - loss: 0.6414 - val_loss: 0.6480\n",
            "Epoch 76/100\n",
            "63/63 [==============================] - 0s 4ms/step - loss: 0.6508 - val_loss: 0.6561\n",
            "Epoch 77/100\n",
            "63/63 [==============================] - 0s 3ms/step - loss: 0.6479 - val_loss: 0.6489\n",
            "Epoch 78/100\n",
            "63/63 [==============================] - 0s 3ms/step - loss: 0.6442 - val_loss: 0.6495\n",
            "Epoch 79/100\n",
            "63/63 [==============================] - 0s 3ms/step - loss: 0.6425 - val_loss: 0.6469\n",
            "Epoch 80/100\n",
            "63/63 [==============================] - 0s 3ms/step - loss: 0.6415 - val_loss: 0.6470\n",
            "Epoch 81/100\n",
            "63/63 [==============================] - 0s 4ms/step - loss: 0.6386 - val_loss: 0.6471\n",
            "Epoch 82/100\n",
            "63/63 [==============================] - 0s 3ms/step - loss: 0.6429 - val_loss: 0.6469\n",
            "Epoch 83/100\n",
            "63/63 [==============================] - 0s 3ms/step - loss: 0.6432 - val_loss: 0.6485\n",
            "Epoch 84/100\n",
            "63/63 [==============================] - 0s 3ms/step - loss: 0.6320 - val_loss: 0.6458\n",
            "Epoch 85/100\n",
            "63/63 [==============================] - 0s 3ms/step - loss: 0.6424 - val_loss: 0.6478\n",
            "Epoch 86/100\n",
            "63/63 [==============================] - 0s 4ms/step - loss: 0.6381 - val_loss: 0.6464\n",
            "Epoch 87/100\n",
            "63/63 [==============================] - 0s 3ms/step - loss: 0.6373 - val_loss: 0.6440\n",
            "Epoch 88/100\n",
            "63/63 [==============================] - 0s 4ms/step - loss: 0.6374 - val_loss: 0.6475\n",
            "Epoch 89/100\n",
            "63/63 [==============================] - 0s 3ms/step - loss: 0.6490 - val_loss: 0.6490\n",
            "Epoch 90/100\n",
            "63/63 [==============================] - 0s 3ms/step - loss: 0.6343 - val_loss: 0.6448\n",
            "Epoch 91/100\n",
            "63/63 [==============================] - 0s 3ms/step - loss: 0.6410 - val_loss: 0.6461\n",
            "Epoch 92/100\n",
            "63/63 [==============================] - 0s 4ms/step - loss: 0.6320 - val_loss: 0.6433\n",
            "Epoch 93/100\n",
            "63/63 [==============================] - 0s 4ms/step - loss: 0.6408 - val_loss: 0.6473\n",
            "Epoch 94/100\n",
            "63/63 [==============================] - 0s 3ms/step - loss: 0.6363 - val_loss: 0.6446\n",
            "Epoch 95/100\n",
            "63/63 [==============================] - 0s 3ms/step - loss: 0.6425 - val_loss: 0.6450\n",
            "Epoch 96/100\n",
            "63/63 [==============================] - 0s 3ms/step - loss: 0.6341 - val_loss: 0.6457\n",
            "Epoch 97/100\n",
            "63/63 [==============================] - 0s 3ms/step - loss: 0.6370 - val_loss: 0.6458\n",
            "Epoch 98/100\n",
            "63/63 [==============================] - 0s 4ms/step - loss: 0.6369 - val_loss: 0.6448\n",
            "Epoch 99/100\n",
            "63/63 [==============================] - 0s 4ms/step - loss: 0.6360 - val_loss: 0.6439\n",
            "Epoch 100/100\n",
            "63/63 [==============================] - 0s 3ms/step - loss: 0.6345 - val_loss: 0.6442\n"
          ]
        },
        {
          "output_type": "execute_result",
          "data": {
            "text/plain": [
              "<keras.callbacks.History at 0x7fd053a74b50>"
            ]
          },
          "metadata": {},
          "execution_count": 19
        }
      ],
      "source": [
        "ann = Sequential()\n",
        "\n",
        "ann.add(Dense(units = 30, activation = \"relu\"))\n",
        "ann.add(Dropout(0.5))\n",
        "ann.add(Dense(units = 15, activation = \"relu\"))\n",
        "ann.add(Dropout(0.5))\n",
        "ann.add(Dense(units = 1, activation = \"sigmoid\"))\n",
        "\n",
        "ann.compile(optimizer = \"adam\", loss = \"binary_crossentropy\")\n",
        "\n",
        "ann.fit(xtrain,ytrain,epochs = 100,validation_data = (xtest,ytest)) "
      ]
    },
    {
      "cell_type": "code",
      "execution_count": 20,
      "metadata": {
        "id": "coH8o2Cv99Z6",
        "colab": {
          "base_uri": "https://localhost:8080/",
          "height": 286
        },
        "outputId": "7431ddd0-5489-45a6-b087-296754cef50e"
      },
      "outputs": [
        {
          "output_type": "execute_result",
          "data": {
            "text/plain": [
              "<matplotlib.axes._subplots.AxesSubplot at 0x7fd05397ed10>"
            ]
          },
          "metadata": {},
          "execution_count": 20
        },
        {
          "output_type": "display_data",
          "data": {
            "text/plain": [
              "<Figure size 432x288 with 1 Axes>"
            ],
            "image/png": "[encoded data removed]"
          },
          "metadata": {
            "needs_background": "light"
          }
        }
      ],
      "source": [
        "lossdf = pd.DataFrame(ann.history.history)\n",
        "lossdf.plot()"
      ]
    },
    {
      "cell_type": "code",
      "execution_count": 21,
      "metadata": {
        "id": "i1vPnq_mfCUD"
      },
      "outputs": [],
      "source": [
        "ann = Sequential()\n",
        "\n",
        "ann.add(Dense(units = 30, activation = \"relu\"))\n",
        "ann.add(Dense(units = 15, activation = \"relu\"))\n",
        "ann.add(Dense(units = 1, activation = \"sigmoid\"))\n",
        "\n",
        "ann.compile(optimizer = \"adam\", loss = \"binary_crossentropy\")"
      ]
    },
    {
      "cell_type": "code",
      "execution_count": 22,
      "metadata": {
        "id": "xlZNBhkLfFWZ",
        "colab": {
          "base_uri": "https://localhost:8080/"
        },
        "outputId": "de8b99e2-2387-4963-c3e9-a513c5b8b53c"
      },
      "outputs": [
        {
          "output_type": "stream",
          "name": "stdout",
          "text": [
            "Epoch 1/100\n",
            "63/63 [==============================] - 1s 6ms/step - loss: 0.6764 - val_loss: 0.6723\n",
            "Epoch 2/100\n",
            "63/63 [==============================] - 0s 3ms/step - loss: 0.6720 - val_loss: 0.6722\n",
            "Epoch 3/100\n",
            "63/63 [==============================] - 0s 4ms/step - loss: 0.6711 - val_loss: 0.6730\n",
            "Epoch 4/100\n",
            "63/63 [==============================] - 0s 4ms/step - loss: 0.6719 - val_loss: 0.6719\n",
            "Epoch 5/100\n",
            "63/63 [==============================] - 0s 4ms/step - loss: 0.6710 - val_loss: 0.6721\n",
            "Epoch 6/100\n",
            "63/63 [==============================] - 0s 3ms/step - loss: 0.6706 - val_loss: 0.6720\n",
            "Epoch 6: early stopping\n"
          ]
        },
        {
          "output_type": "execute_result",
          "data": {
            "text/plain": [
              "<keras.callbacks.History at 0x7fd053807210>"
            ]
          },
          "metadata": {},
          "execution_count": 22
        }
      ],
      "source": [
        "from tensorflow.keras.callbacks import EarlyStopping\n",
        "earlystopping = EarlyStopping(min_delta = 0.01,patience = 5,monitor = \"val_loss\",verbose = 1)\n",
        "ann.fit(xtrain,ytrain,epochs = 100,validation_data = (xtest,ytest),callbacks = [earlystopping])"
      ]
    },
    {
      "cell_type": "code",
      "source": [
        "lossdf = pd.DataFrame(ann.history.history)\n",
        "lossdf.plot()"
      ],
      "metadata": {
        "colab": {
          "base_uri": "https://localhost:8080/",
          "height": 282
        },
        "id": "KVu22opas7B9",
        "outputId": "932b751c-b98c-45d5-ab84-a451eb3521d2"
      },
      "execution_count": 23,
      "outputs": [
        {
          "output_type": "execute_result",
          "data": {
            "text/plain": [
              "<matplotlib.axes._subplots.AxesSubplot at 0x7fd0536c9110>"
            ]
          },
          "metadata": {},
          "execution_count": 23
        },
        {
          "output_type": "display_data",
          "data": {
            "text/plain": [
              "<Figure size 432x288 with 1 Axes>"
            ],
            "image/png": "[encoded data removed]"
          },
          "metadata": {
            "needs_background": "light"
          }
        }
      ]
    },
    {
      "cell_type": "code",
      "source": [],
      "metadata": {
        "id": "0kaHOIMBtRga"
      },
      "execution_count": 23,
      "outputs": []
    }
  ],
  "metadata": {
    "colab": {
      "provenance": [],
      "collapsed_sections": []
    },
    "kernelspec": {
      "display_name": "Python 3",
      "name": "python3"
    },
    "language_info": {
      "name": "python"
    }
  },
  "nbformat": 4,
  "nbformat_minor": 0
}