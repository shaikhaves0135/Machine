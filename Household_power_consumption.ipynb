{
  "nbformat": 4,
  "nbformat_minor": 0,
  "metadata": {
    "colab": {
      "provenance": [],
      "collapsed_sections": []
    },
    "kernelspec": {
      "name": "python3",
      "display_name": "Python 3"
    },
    "language_info": {
      "name": "python"
    }
  },
  "cells": [
    {
      "cell_type": "code",
      "execution_count": 1,
      "metadata": {
        "id": "YoshblTj6o9z"
      },
      "outputs": [],
      "source": [
        "import pandas as pd\n",
        "import numpy as np\n",
        "import matplotlib.pyplot as plt\n",
        "import seaborn as sns\n",
        "import warnings \n",
        "warnings.filterwarnings(\"ignore\")"
      ]
    },
    {
      "cell_type": "code",
      "source": [
        "import tensorflow\n",
        "from tensorflow.keras import Sequential\n",
        "from tensorflow.keras.layers import Dense"
      ],
      "metadata": {
        "id": "vH50jqqy7zRe"
      },
      "execution_count": 2,
      "outputs": []
    },
    {
      "cell_type": "code",
      "source": [
        "df = pd.read_csv(\"/content/household_power_consumption.csv\")"
      ],
      "metadata": {
        "id": "SAHyFw6N8Rq7"
      },
      "execution_count": 3,
      "outputs": []
    },
    {
      "cell_type": "code",
      "source": [
        "df"
      ],
      "metadata": {
        "colab": {
          "base_uri": "https://localhost:8080/",
          "height": 641
        },
        "id": "O2oLeAm-uTv5",
        "outputId": "ffaa28c1-67a9-416b-b088-3e3d5f4b1011"
      },
      "execution_count": 4,
      "outputs": [
        {
          "output_type": "execute_result",
          "data": {
            "text/plain": [
              "               Date      Time Global_active_power Global_reactive_power  \\\n",
              "0        16-12-2006  17:24:00               4.216                 0.418   \n",
              "1        16-12-2006  17:25:00                5.36                 0.436   \n",
              "2        16-12-2006  17:26:00               5.374                 0.498   \n",
              "3        16-12-2006  17:27:00               5.388                 0.502   \n",
              "4        16-12-2006  17:28:00               3.666                 0.528   \n",
              "...             ...       ...                 ...                   ...   \n",
              "1048570  13-12-2008  21:34:00               0.426                 0.076   \n",
              "1048571  13-12-2008  21:35:00               0.424                 0.076   \n",
              "1048572  13-12-2008  21:36:00               0.422                 0.076   \n",
              "1048573  13-12-2008  21:37:00               0.422                 0.078   \n",
              "1048574  13-12-2008  21:38:00               0.422                 0.078   \n",
              "\n",
              "        Voltage Global_intensity Sub_metering_1 Sub_metering_2  Sub_metering_3  \n",
              "0        234.84             18.4              0              1            17.0  \n",
              "1        233.63               23              0              1            16.0  \n",
              "2        233.29               23              0              2            17.0  \n",
              "3        233.74               23              0              1            17.0  \n",
              "4        235.68             15.8              0              1            17.0  \n",
              "...         ...              ...            ...            ...             ...  \n",
              "1048570  242.27              1.8              0              0             0.0  \n",
              "1048571   242.1              1.8              0              0             0.0  \n",
              "1048572  241.73              1.8              0              0             0.0  \n",
              "1048573  242.56              1.8              0              0             0.0  \n",
              "1048574  242.61              1.8              0              0             0.0  \n",
              "\n",
              "[1048575 rows x 9 columns]"
            ],
            "text/html": [
              "\n",
              "  <div id=\"df-c646c680-638c-43f1-aac6-afb458176cb4\">\n",
              "    <div class=\"colab-df-container\">\n",
              "      <div>\n",
              "<style scoped>\n",
              "    .dataframe tbody tr th:only-of-type {\n",
              "        vertical-align: middle;\n",
              "    }\n",
              "\n",
              "    .dataframe tbody tr th {\n",
              "        vertical-align: top;\n",
              "    }\n",
              "\n",
              "    .dataframe thead th {\n",
              "        text-align: right;\n",
              "    }\n",
              "</style>\n",
              "<table border=\"1\" class=\"dataframe\">\n",
              "  <thead>\n",
              "    <tr style=\"text-align: right;\">\n",
              "      <th></th>\n",
              "      <th>Date</th>\n",
              "      <th>Time</th>\n",
              "      <th>Global_active_power</th>\n",
              "      <th>Global_reactive_power</th>\n",
              "      <th>Voltage</th>\n",
              "      <th>Global_intensity</th>\n",
              "      <th>Sub_metering_1</th>\n",
              "      <th>Sub_metering_2</th>\n",
              "      <th>Sub_metering_3</th>\n",
              "    </tr>\n",
              "  </thead>\n",
              "  <tbody>\n",
              "    <tr>\n",
              "      <th>0</th>\n",
              "      <td>16-12-2006</td>\n",
              "      <td>17:24:00</td>\n",
              "      <td>4.216</td>\n",
              "      <td>0.418</td>\n",
              "      <td>234.84</td>\n",
              "      <td>18.4</td>\n",
              "      <td>0</td>\n",
              "      <td>1</td>\n",
              "      <td>17.0</td>\n",
              "    </tr>\n",
              "    <tr>\n",
              "      <th>1</th>\n",
              "      <td>16-12-2006</td>\n",
              "      <td>17:25:00</td>\n",
              "      <td>5.36</td>\n",
              "      <td>0.436</td>\n",
              "      <td>233.63</td>\n",
              "      <td>23</td>\n",
              "      <td>0</td>\n",
              "      <td>1</td>\n",
              "      <td>16.0</td>\n",
              "    </tr>\n",
              "    <tr>\n",
              "      <th>2</th>\n",
              "      <td>16-12-2006</td>\n",
              "      <td>17:26:00</td>\n",
              "      <td>5.374</td>\n",
              "      <td>0.498</td>\n",
              "      <td>233.29</td>\n",
              "      <td>23</td>\n",
              "      <td>0</td>\n",
              "      <td>2</td>\n",
              "      <td>17.0</td>\n",
              "    </tr>\n",
              "    <tr>\n",
              "      <th>3</th>\n",
              "      <td>16-12-2006</td>\n",
              "      <td>17:27:00</td>\n",
              "      <td>5.388</td>\n",
              "      <td>0.502</td>\n",
              "      <td>233.74</td>\n",
              "      <td>23</td>\n",
              "      <td>0</td>\n",
              "      <td>1</td>\n",
              "      <td>17.0</td>\n",
              "    </tr>\n",
              "    <tr>\n",
              "      <th>4</th>\n",
              "      <td>16-12-2006</td>\n",
              "      <td>17:28:00</td>\n",
              "      <td>3.666</td>\n",
              "      <td>0.528</td>\n",
              "      <td>235.68</td>\n",
              "      <td>15.8</td>\n",
              "      <td>0</td>\n",
              "      <td>1</td>\n",
              "      <td>17.0</td>\n",
              "    </tr>\n",
              "    <tr>\n",
              "      <th>...</th>\n",
              "      <td>...</td>\n",
              "      <td>...</td>\n",
              "      <td>...</td>\n",
              "      <td>...</td>\n",
              "      <td>...</td>\n",
              "      <td>...</td>\n",
              "      <td>...</td>\n",
              "      <td>...</td>\n",
              "      <td>...</td>\n",
              "    </tr>\n",
              "    <tr>\n",
              "      <th>1048570</th>\n",
              "      <td>13-12-2008</td>\n",
              "      <td>21:34:00</td>\n",
              "      <td>0.426</td>\n",
              "      <td>0.076</td>\n",
              "      <td>242.27</td>\n",
              "      <td>1.8</td>\n",
              "      <td>0</td>\n",
              "      <td>0</td>\n",
              "      <td>0.0</td>\n",
              "    </tr>\n",
              "    <tr>\n",
              "      <th>1048571</th>\n",
              "      <td>13-12-2008</td>\n",
              "      <td>21:35:00</td>\n",
              "      <td>0.424</td>\n",
              "      <td>0.076</td>\n",
              "      <td>242.1</td>\n",
              "      <td>1.8</td>\n",
              "      <td>0</td>\n",
              "      <td>0</td>\n",
              "      <td>0.0</td>\n",
              "    </tr>\n",
              "    <tr>\n",
              "      <th>1048572</th>\n",
              "      <td>13-12-2008</td>\n",
              "      <td>21:36:00</td>\n",
              "      <td>0.422</td>\n",
              "      <td>0.076</td>\n",
              "      <td>241.73</td>\n",
              "      <td>1.8</td>\n",
              "      <td>0</td>\n",
              "      <td>0</td>\n",
              "      <td>0.0</td>\n",
              "    </tr>\n",
              "    <tr>\n",
              "      <th>1048573</th>\n",
              "      <td>13-12-2008</td>\n",
              "      <td>21:37:00</td>\n",
              "      <td>0.422</td>\n",
              "      <td>0.078</td>\n",
              "      <td>242.56</td>\n",
              "      <td>1.8</td>\n",
              "      <td>0</td>\n",
              "      <td>0</td>\n",
              "      <td>0.0</td>\n",
              "    </tr>\n",
              "    <tr>\n",
              "      <th>1048574</th>\n",
              "      <td>13-12-2008</td>\n",
              "      <td>21:38:00</td>\n",
              "      <td>0.422</td>\n",
              "      <td>0.078</td>\n",
              "      <td>242.61</td>\n",
              "      <td>1.8</td>\n",
              "      <td>0</td>\n",
              "      <td>0</td>\n",
              "      <td>0.0</td>\n",
              "    </tr>\n",
              "  </tbody>\n",
              "</table>\n",
              "<p>1048575 rows × 9 columns</p>\n",
              "</div>\n",
              "      <button class=\"colab-df-convert\" onclick=\"convertToInteractive('df-c646c680-638c-43f1-aac6-afb458176cb4')\"\n",
              "              title=\"Convert this dataframe to an interactive table.\"\n",
              "              style=\"display:none;\">\n",
              "        \n",
              "  <svg xmlns=\"http://www.w3.org/2000/svg\" height=\"24px\"viewBox=\"0 0 24 24\"\n",
              "       width=\"24px\">\n",
              "    <path d=\"M0 0h24v24H0V0z\" fill=\"none\"/>\n",
              "    <path d=\"M18.56 5.44l.94 2.06.94-2.06 2.06-.94-2.06-.94-.94-2.06-.94 2.06-2.06.94zm-11 1L8.5 8.5l.94-2.06 2.06-.94-2.06-.94L8.5 2.5l-.94 2.06-2.06.94zm10 10l.94 2.06.94-2.06 2.06-.94-2.06-.94-.94-2.06-.94 2.06-2.06.94z\"/><path d=\"M17.41 7.96l-1.37-1.37c-.4-.4-.92-.59-1.43-.59-.52 0-1.04.2-1.43.59L10.3 9.45l-7.72 7.72c-.78.78-.78 2.05 0 2.83L4 21.41c.39.39.9.59 1.41.59.51 0 1.02-.2 1.41-.59l7.78-7.78 2.81-2.81c.8-.78.8-2.07 0-2.86zM5.41 20L4 18.59l7.72-7.72 1.47 1.35L5.41 20z\"/>\n",
              "  </svg>\n",
              "      </button>\n",
              "      \n",
              "  <style>\n",
              "    .colab-df-container {\n",
              "      display:flex;\n",
              "      flex-wrap:wrap;\n",
              "      gap: 12px;\n",
              "    }\n",
              "\n",
              "    .colab-df-convert {\n",
              "      background-color: #E8F0FE;\n",
              "      border: none;\n",
              "      border-radius: 50%;\n",
              "      cursor: pointer;\n",
              "      display: none;\n",
              "      fill: #1967D2;\n",
              "      height: 32px;\n",
              "      padding: 0 0 0 0;\n",
              "      width: 32px;\n",
              "    }\n",
              "\n",
              "    .colab-df-convert:hover {\n",
              "      background-color: #E2EBFA;\n",
              "      box-shadow: 0px 1px 2px rgba(60, 64, 67, 0.3), 0px 1px 3px 1px rgba(60, 64, 67, 0.15);\n",
              "      fill: #174EA6;\n",
              "    }\n",
              "\n",
              "    [theme=dark] .colab-df-convert {\n",
              "      background-color: #3B4455;\n",
              "      fill: #D2E3FC;\n",
              "    }\n",
              "\n",
              "    [theme=dark] .colab-df-convert:hover {\n",
              "      background-color: #434B5C;\n",
              "      box-shadow: 0px 1px 3px 1px rgba(0, 0, 0, 0.15);\n",
              "      filter: drop-shadow(0px 1px 2px rgba(0, 0, 0, 0.3));\n",
              "      fill: #FFFFFF;\n",
              "    }\n",
              "  </style>\n",
              "\n",
              "      <script>\n",
              "        const buttonEl =\n",
              "          document.querySelector('#df-c646c680-638c-43f1-aac6-afb458176cb4 button.colab-df-convert');\n",
              "        buttonEl.style.display =\n",
              "          google.colab.kernel.accessAllowed ? 'block' : 'none';\n",
              "\n",
              "        async function convertToInteractive(key) {\n",
              "          const element = document.querySelector('#df-c646c680-638c-43f1-aac6-afb458176cb4');\n",
              "          const dataTable =\n",
              "            await google.colab.kernel.invokeFunction('convertToInteractive',\n",
              "                                                     [key], {});\n",
              "          if (!dataTable) return;\n",
              "\n",
              "          const docLinkHtml = 'Like what you see? Visit the ' +\n",
              "            '<a target=\"_blank\" href=https://colab.research.google.com/notebooks/data_table.ipynb>data table notebook</a>'\n",
              "            + ' to learn more about interactive tables.';\n",
              "          element.innerHTML = '';\n",
              "          dataTable['output_type'] = 'display_data';\n",
              "          await google.colab.output.renderOutput(dataTable, element);\n",
              "          const docLink = document.createElement('div');\n",
              "          docLink.innerHTML = docLinkHtml;\n",
              "          element.appendChild(docLink);\n",
              "        }\n",
              "      </script>\n",
              "    </div>\n",
              "  </div>\n",
              "  "
            ]
          },
          "metadata": {},
          "execution_count": 4
        }
      ]
    },
    {
      "cell_type": "code",
      "source": [
        "df.info()"
      ],
      "metadata": {
        "colab": {
          "base_uri": "https://localhost:8080/"
        },
        "id": "opvcgzf_uUaA",
        "outputId": "b7d327e8-18a7-4f84-8625-7e188ac6d6d4"
      },
      "execution_count": 5,
      "outputs": [
        {
          "output_type": "stream",
          "name": "stdout",
          "text": [
            "<class 'pandas.core.frame.DataFrame'>\n",
            "RangeIndex: 1048575 entries, 0 to 1048574\n",
            "Data columns (total 9 columns):\n",
            " #   Column                 Non-Null Count    Dtype  \n",
            "---  ------                 --------------    -----  \n",
            " 0   Date                   1048575 non-null  object \n",
            " 1   Time                   1048575 non-null  object \n",
            " 2   Global_active_power    1048575 non-null  object \n",
            " 3   Global_reactive_power  1048575 non-null  object \n",
            " 4   Voltage                1048575 non-null  object \n",
            " 5   Global_intensity       1048575 non-null  object \n",
            " 6   Sub_metering_1         1048575 non-null  object \n",
            " 7   Sub_metering_2         1048575 non-null  object \n",
            " 8   Sub_metering_3         1044506 non-null  float64\n",
            "dtypes: float64(1), object(8)\n",
            "memory usage: 72.0+ MB\n"
          ]
        }
      ]
    },
    {
      "cell_type": "code",
      "source": [
        "df.isnull().sum()"
      ],
      "metadata": {
        "colab": {
          "base_uri": "https://localhost:8080/"
        },
        "id": "l_B3Ylcezd0w",
        "outputId": "b7a7b470-ce9a-452e-863d-c70873b55200"
      },
      "execution_count": 6,
      "outputs": [
        {
          "output_type": "execute_result",
          "data": {
            "text/plain": [
              "Date                        0\n",
              "Time                        0\n",
              "Global_active_power         0\n",
              "Global_reactive_power       0\n",
              "Voltage                     0\n",
              "Global_intensity            0\n",
              "Sub_metering_1              0\n",
              "Sub_metering_2              0\n",
              "Sub_metering_3           4069\n",
              "dtype: int64"
            ]
          },
          "metadata": {},
          "execution_count": 6
        }
      ]
    },
    {
      "cell_type": "code",
      "source": [
        "sum = df[\"Sub_metering_3\"].isnull().sum()"
      ],
      "metadata": {
        "id": "qXH9vIKrzgux"
      },
      "execution_count": 7,
      "outputs": []
    },
    {
      "cell_type": "code",
      "source": [
        "df.dropna(inplace = True)"
      ],
      "metadata": {
        "id": "l_Uh0BgXzur7"
      },
      "execution_count": 8,
      "outputs": []
    },
    {
      "cell_type": "code",
      "source": [
        "df.isnull().sum()"
      ],
      "metadata": {
        "colab": {
          "base_uri": "https://localhost:8080/"
        },
        "id": "unizXpISz9jY",
        "outputId": "c9376f94-e9f1-4d1c-a488-518caea964ae"
      },
      "execution_count": 9,
      "outputs": [
        {
          "output_type": "execute_result",
          "data": {
            "text/plain": [
              "Date                     0\n",
              "Time                     0\n",
              "Global_active_power      0\n",
              "Global_reactive_power    0\n",
              "Voltage                  0\n",
              "Global_intensity         0\n",
              "Sub_metering_1           0\n",
              "Sub_metering_2           0\n",
              "Sub_metering_3           0\n",
              "dtype: int64"
            ]
          },
          "metadata": {},
          "execution_count": 9
        }
      ]
    },
    {
      "cell_type": "code",
      "source": [
        "df[\"Global_active_power\"] = df[\"Global_active_power\"].astype(float)\n",
        "df[\"Global_reactive_power\"] = df[\"Global_active_power\"].astype(float)\n",
        "df[\"Sub_metering_1\"] = df[\"Global_active_power\"].astype(float)\n",
        "df[\"Sub_metering_2\"] = df[\"Global_active_power\"].astype(float)"
      ],
      "metadata": {
        "id": "uQI1l5MQ0bpF"
      },
      "execution_count": 10,
      "outputs": []
    },
    {
      "cell_type": "code",
      "source": [
        "df[\"Voltage\"] = df[\"Voltage\"].astype(\"float\")\n",
        "df[\"Global_intensity\"] = df[\"Global_intensity\"].astype(\"float\")"
      ],
      "metadata": {
        "id": "LtVCEEGG1kBV"
      },
      "execution_count": 11,
      "outputs": []
    },
    {
      "cell_type": "code",
      "source": [
        "df.info()"
      ],
      "metadata": {
        "colab": {
          "base_uri": "https://localhost:8080/"
        },
        "id": "SgYyVnXd2pDL",
        "outputId": "6fdb4419-6477-4510-c6f9-12523270e11e"
      },
      "execution_count": 12,
      "outputs": [
        {
          "output_type": "stream",
          "name": "stdout",
          "text": [
            "<class 'pandas.core.frame.DataFrame'>\n",
            "Int64Index: 1044506 entries, 0 to 1048574\n",
            "Data columns (total 9 columns):\n",
            " #   Column                 Non-Null Count    Dtype  \n",
            "---  ------                 --------------    -----  \n",
            " 0   Date                   1044506 non-null  object \n",
            " 1   Time                   1044506 non-null  object \n",
            " 2   Global_active_power    1044506 non-null  float64\n",
            " 3   Global_reactive_power  1044506 non-null  float64\n",
            " 4   Voltage                1044506 non-null  float64\n",
            " 5   Global_intensity       1044506 non-null  float64\n",
            " 6   Sub_metering_1         1044506 non-null  float64\n",
            " 7   Sub_metering_2         1044506 non-null  float64\n",
            " 8   Sub_metering_3         1044506 non-null  float64\n",
            "dtypes: float64(7), object(2)\n",
            "memory usage: 79.7+ MB\n"
          ]
        }
      ]
    },
    {
      "cell_type": "code",
      "source": [
        "df.describe()"
      ],
      "metadata": {
        "colab": {
          "base_uri": "https://localhost:8080/",
          "height": 300
        },
        "id": "dS0Y252N7T53",
        "outputId": "5b4a1aec-db6f-496a-dc6d-e9d6d00d0e1c"
      },
      "execution_count": 13,
      "outputs": [
        {
          "output_type": "execute_result",
          "data": {
            "text/plain": [
              "       Global_active_power  Global_reactive_power       Voltage  \\\n",
              "count         1.044506e+06           1.044506e+06  1.044506e+06   \n",
              "mean          1.108202e+00           1.108202e+00  2.399598e+02   \n",
              "std           1.129546e+00           1.129546e+00  3.284504e+00   \n",
              "min           7.600000e-02           7.600000e-02  2.234900e+02   \n",
              "25%           2.880000e-01           2.880000e-01  2.379700e+02   \n",
              "50%           5.500000e-01           5.500000e-01  2.402100e+02   \n",
              "75%           1.544000e+00           1.544000e+00  2.421400e+02   \n",
              "max           1.067000e+01           1.067000e+01  2.521400e+02   \n",
              "\n",
              "       Global_intensity  Sub_metering_1  Sub_metering_2  Sub_metering_3  \n",
              "count      1.044506e+06    1.044506e+06    1.044506e+06    1.044506e+06  \n",
              "mean       4.718123e+00    1.108202e+00    1.108202e+00    5.933837e+00  \n",
              "std        4.763588e+00    1.129546e+00    1.129546e+00    8.210398e+00  \n",
              "min        2.000000e-01    7.600000e-02    7.600000e-02    0.000000e+00  \n",
              "25%        1.200000e+00    2.880000e-01    2.880000e-01    0.000000e+00  \n",
              "50%        2.400000e+00    5.500000e-01    5.500000e-01    0.000000e+00  \n",
              "75%        6.400000e+00    1.544000e+00    1.544000e+00    1.700000e+01  \n",
              "max        4.640000e+01    1.067000e+01    1.067000e+01    3.100000e+01  "
            ],
            "text/html": [
              "\n",
              "  <div id=\"df-188c5893-0dca-4e4e-ba5c-193285b6c8a8\">\n",
              "    <div class=\"colab-df-container\">\n",
              "      <div>\n",
              "<style scoped>\n",
              "    .dataframe tbody tr th:only-of-type {\n",
              "        vertical-align: middle;\n",
              "    }\n",
              "\n",
              "    .dataframe tbody tr th {\n",
              "        vertical-align: top;\n",
              "    }\n",
              "\n",
              "    .dataframe thead th {\n",
              "        text-align: right;\n",
              "    }\n",
              "</style>\n",
              "<table border=\"1\" class=\"dataframe\">\n",
              "  <thead>\n",
              "    <tr style=\"text-align: right;\">\n",
              "      <th></th>\n",
              "      <th>Global_active_power</th>\n",
              "      <th>Global_reactive_power</th>\n",
              "      <th>Voltage</th>\n",
              "      <th>Global_intensity</th>\n",
              "      <th>Sub_metering_1</th>\n",
              "      <th>Sub_metering_2</th>\n",
              "      <th>Sub_metering_3</th>\n",
              "    </tr>\n",
              "  </thead>\n",
              "  <tbody>\n",
              "    <tr>\n",
              "      <th>count</th>\n",
              "      <td>1.044506e+06</td>\n",
              "      <td>1.044506e+06</td>\n",
              "      <td>1.044506e+06</td>\n",
              "      <td>1.044506e+06</td>\n",
              "      <td>1.044506e+06</td>\n",
              "      <td>1.044506e+06</td>\n",
              "      <td>1.044506e+06</td>\n",
              "    </tr>\n",
              "    <tr>\n",
              "      <th>mean</th>\n",
              "      <td>1.108202e+00</td>\n",
              "      <td>1.108202e+00</td>\n",
              "      <td>2.399598e+02</td>\n",
              "      <td>4.718123e+00</td>\n",
              "      <td>1.108202e+00</td>\n",
              "      <td>1.108202e+00</td>\n",
              "      <td>5.933837e+00</td>\n",
              "    </tr>\n",
              "    <tr>\n",
              "      <th>std</th>\n",
              "      <td>1.129546e+00</td>\n",
              "      <td>1.129546e+00</td>\n",
              "      <td>3.284504e+00</td>\n",
              "      <td>4.763588e+00</td>\n",
              "      <td>1.129546e+00</td>\n",
              "      <td>1.129546e+00</td>\n",
              "      <td>8.210398e+00</td>\n",
              "    </tr>\n",
              "    <tr>\n",
              "      <th>min</th>\n",
              "      <td>7.600000e-02</td>\n",
              "      <td>7.600000e-02</td>\n",
              "      <td>2.234900e+02</td>\n",
              "      <td>2.000000e-01</td>\n",
              "      <td>7.600000e-02</td>\n",
              "      <td>7.600000e-02</td>\n",
              "      <td>0.000000e+00</td>\n",
              "    </tr>\n",
              "    <tr>\n",
              "      <th>25%</th>\n",
              "      <td>2.880000e-01</td>\n",
              "      <td>2.880000e-01</td>\n",
              "      <td>2.379700e+02</td>\n",
              "      <td>1.200000e+00</td>\n",
              "      <td>2.880000e-01</td>\n",
              "      <td>2.880000e-01</td>\n",
              "      <td>0.000000e+00</td>\n",
              "    </tr>\n",
              "    <tr>\n",
              "      <th>50%</th>\n",
              "      <td>5.500000e-01</td>\n",
              "      <td>5.500000e-01</td>\n",
              "      <td>2.402100e+02</td>\n",
              "      <td>2.400000e+00</td>\n",
              "      <td>5.500000e-01</td>\n",
              "      <td>5.500000e-01</td>\n",
              "      <td>0.000000e+00</td>\n",
              "    </tr>\n",
              "    <tr>\n",
              "      <th>75%</th>\n",
              "      <td>1.544000e+00</td>\n",
              "      <td>1.544000e+00</td>\n",
              "      <td>2.421400e+02</td>\n",
              "      <td>6.400000e+00</td>\n",
              "      <td>1.544000e+00</td>\n",
              "      <td>1.544000e+00</td>\n",
              "      <td>1.700000e+01</td>\n",
              "    </tr>\n",
              "    <tr>\n",
              "      <th>max</th>\n",
              "      <td>1.067000e+01</td>\n",
              "      <td>1.067000e+01</td>\n",
              "      <td>2.521400e+02</td>\n",
              "      <td>4.640000e+01</td>\n",
              "      <td>1.067000e+01</td>\n",
              "      <td>1.067000e+01</td>\n",
              "      <td>3.100000e+01</td>\n",
              "    </tr>\n",
              "  </tbody>\n",
              "</table>\n",
              "</div>\n",
              "      <button class=\"colab-df-convert\" onclick=\"convertToInteractive('df-188c5893-0dca-4e4e-ba5c-193285b6c8a8')\"\n",
              "              title=\"Convert this dataframe to an interactive table.\"\n",
              "              style=\"display:none;\">\n",
              "        \n",
              "  <svg xmlns=\"http://www.w3.org/2000/svg\" height=\"24px\"viewBox=\"0 0 24 24\"\n",
              "       width=\"24px\">\n",
              "    <path d=\"M0 0h24v24H0V0z\" fill=\"none\"/>\n",
              "    <path d=\"M18.56 5.44l.94 2.06.94-2.06 2.06-.94-2.06-.94-.94-2.06-.94 2.06-2.06.94zm-11 1L8.5 8.5l.94-2.06 2.06-.94-2.06-.94L8.5 2.5l-.94 2.06-2.06.94zm10 10l.94 2.06.94-2.06 2.06-.94-2.06-.94-.94-2.06-.94 2.06-2.06.94z\"/><path d=\"M17.41 7.96l-1.37-1.37c-.4-.4-.92-.59-1.43-.59-.52 0-1.04.2-1.43.59L10.3 9.45l-7.72 7.72c-.78.78-.78 2.05 0 2.83L4 21.41c.39.39.9.59 1.41.59.51 0 1.02-.2 1.41-.59l7.78-7.78 2.81-2.81c.8-.78.8-2.07 0-2.86zM5.41 20L4 18.59l7.72-7.72 1.47 1.35L5.41 20z\"/>\n",
              "  </svg>\n",
              "      </button>\n",
              "      \n",
              "  <style>\n",
              "    .colab-df-container {\n",
              "      display:flex;\n",
              "      flex-wrap:wrap;\n",
              "      gap: 12px;\n",
              "    }\n",
              "\n",
              "    .colab-df-convert {\n",
              "      background-color: #E8F0FE;\n",
              "      border: none;\n",
              "      border-radius: 50%;\n",
              "      cursor: pointer;\n",
              "      display: none;\n",
              "      fill: #1967D2;\n",
              "      height: 32px;\n",
              "      padding: 0 0 0 0;\n",
              "      width: 32px;\n",
              "    }\n",
              "\n",
              "    .colab-df-convert:hover {\n",
              "      background-color: #E2EBFA;\n",
              "      box-shadow: 0px 1px 2px rgba(60, 64, 67, 0.3), 0px 1px 3px 1px rgba(60, 64, 67, 0.15);\n",
              "      fill: #174EA6;\n",
              "    }\n",
              "\n",
              "    [theme=dark] .colab-df-convert {\n",
              "      background-color: #3B4455;\n",
              "      fill: #D2E3FC;\n",
              "    }\n",
              "\n",
              "    [theme=dark] .colab-df-convert:hover {\n",
              "      background-color: #434B5C;\n",
              "      box-shadow: 0px 1px 3px 1px rgba(0, 0, 0, 0.15);\n",
              "      filter: drop-shadow(0px 1px 2px rgba(0, 0, 0, 0.3));\n",
              "      fill: #FFFFFF;\n",
              "    }\n",
              "  </style>\n",
              "\n",
              "      <script>\n",
              "        const buttonEl =\n",
              "          document.querySelector('#df-188c5893-0dca-4e4e-ba5c-193285b6c8a8 button.colab-df-convert');\n",
              "        buttonEl.style.display =\n",
              "          google.colab.kernel.accessAllowed ? 'block' : 'none';\n",
              "\n",
              "        async function convertToInteractive(key) {\n",
              "          const element = document.querySelector('#df-188c5893-0dca-4e4e-ba5c-193285b6c8a8');\n",
              "          const dataTable =\n",
              "            await google.colab.kernel.invokeFunction('convertToInteractive',\n",
              "                                                     [key], {});\n",
              "          if (!dataTable) return;\n",
              "\n",
              "          const docLinkHtml = 'Like what you see? Visit the ' +\n",
              "            '<a target=\"_blank\" href=https://colab.research.google.com/notebooks/data_table.ipynb>data table notebook</a>'\n",
              "            + ' to learn more about interactive tables.';\n",
              "          element.innerHTML = '';\n",
              "          dataTable['output_type'] = 'display_data';\n",
              "          await google.colab.output.renderOutput(dataTable, element);\n",
              "          const docLink = document.createElement('div');\n",
              "          docLink.innerHTML = docLinkHtml;\n",
              "          element.appendChild(docLink);\n",
              "        }\n",
              "      </script>\n",
              "    </div>\n",
              "  </div>\n",
              "  "
            ]
          },
          "metadata": {},
          "execution_count": 13
        }
      ]
    },
    {
      "cell_type": "code",
      "source": [
        "x = df.drop([\"Voltage\",\"Date\",\"Time\"],axis = 1)"
      ],
      "metadata": {
        "id": "BPn3JaZ32qOh"
      },
      "execution_count": 14,
      "outputs": []
    },
    {
      "cell_type": "code",
      "source": [
        "x"
      ],
      "metadata": {
        "colab": {
          "base_uri": "https://localhost:8080/",
          "height": 424
        },
        "id": "2D9GgtMH3m6D",
        "outputId": "9a8be11d-2eeb-4a3f-f2a5-38b2f577a4e2"
      },
      "execution_count": 15,
      "outputs": [
        {
          "output_type": "execute_result",
          "data": {
            "text/plain": [
              "         Global_active_power  Global_reactive_power  Global_intensity  \\\n",
              "0                      4.216                  4.216              18.4   \n",
              "1                      5.360                  5.360              23.0   \n",
              "2                      5.374                  5.374              23.0   \n",
              "3                      5.388                  5.388              23.0   \n",
              "4                      3.666                  3.666              15.8   \n",
              "...                      ...                    ...               ...   \n",
              "1048570                0.426                  0.426               1.8   \n",
              "1048571                0.424                  0.424               1.8   \n",
              "1048572                0.422                  0.422               1.8   \n",
              "1048573                0.422                  0.422               1.8   \n",
              "1048574                0.422                  0.422               1.8   \n",
              "\n",
              "         Sub_metering_1  Sub_metering_2  Sub_metering_3  \n",
              "0                 4.216           4.216            17.0  \n",
              "1                 5.360           5.360            16.0  \n",
              "2                 5.374           5.374            17.0  \n",
              "3                 5.388           5.388            17.0  \n",
              "4                 3.666           3.666            17.0  \n",
              "...                 ...             ...             ...  \n",
              "1048570           0.426           0.426             0.0  \n",
              "1048571           0.424           0.424             0.0  \n",
              "1048572           0.422           0.422             0.0  \n",
              "1048573           0.422           0.422             0.0  \n",
              "1048574           0.422           0.422             0.0  \n",
              "\n",
              "[1044506 rows x 6 columns]"
            ],
            "text/html": [
              "\n",
              "  <div id=\"df-5d4d265e-a350-445d-a44c-aaad6bc68626\">\n",
              "    <div class=\"colab-df-container\">\n",
              "      <div>\n",
              "<style scoped>\n",
              "    .dataframe tbody tr th:only-of-type {\n",
              "        vertical-align: middle;\n",
              "    }\n",
              "\n",
              "    .dataframe tbody tr th {\n",
              "        vertical-align: top;\n",
              "    }\n",
              "\n",
              "    .dataframe thead th {\n",
              "        text-align: right;\n",
              "    }\n",
              "</style>\n",
              "<table border=\"1\" class=\"dataframe\">\n",
              "  <thead>\n",
              "    <tr style=\"text-align: right;\">\n",
              "      <th></th>\n",
              "      <th>Global_active_power</th>\n",
              "      <th>Global_reactive_power</th>\n",
              "      <th>Global_intensity</th>\n",
              "      <th>Sub_metering_1</th>\n",
              "      <th>Sub_metering_2</th>\n",
              "      <th>Sub_metering_3</th>\n",
              "    </tr>\n",
              "  </thead>\n",
              "  <tbody>\n",
              "    <tr>\n",
              "      <th>0</th>\n",
              "      <td>4.216</td>\n",
              "      <td>4.216</td>\n",
              "      <td>18.4</td>\n",
              "      <td>4.216</td>\n",
              "      <td>4.216</td>\n",
              "      <td>17.0</td>\n",
              "    </tr>\n",
              "    <tr>\n",
              "      <th>1</th>\n",
              "      <td>5.360</td>\n",
              "      <td>5.360</td>\n",
              "      <td>23.0</td>\n",
              "      <td>5.360</td>\n",
              "      <td>5.360</td>\n",
              "      <td>16.0</td>\n",
              "    </tr>\n",
              "    <tr>\n",
              "      <th>2</th>\n",
              "      <td>5.374</td>\n",
              "      <td>5.374</td>\n",
              "      <td>23.0</td>\n",
              "      <td>5.374</td>\n",
              "      <td>5.374</td>\n",
              "      <td>17.0</td>\n",
              "    </tr>\n",
              "    <tr>\n",
              "      <th>3</th>\n",
              "      <td>5.388</td>\n",
              "      <td>5.388</td>\n",
              "      <td>23.0</td>\n",
              "      <td>5.388</td>\n",
              "      <td>5.388</td>\n",
              "      <td>17.0</td>\n",
              "    </tr>\n",
              "    <tr>\n",
              "      <th>4</th>\n",
              "      <td>3.666</td>\n",
              "      <td>3.666</td>\n",
              "      <td>15.8</td>\n",
              "      <td>3.666</td>\n",
              "      <td>3.666</td>\n",
              "      <td>17.0</td>\n",
              "    </tr>\n",
              "    <tr>\n",
              "      <th>...</th>\n",
              "      <td>...</td>\n",
              "      <td>...</td>\n",
              "      <td>...</td>\n",
              "      <td>...</td>\n",
              "      <td>...</td>\n",
              "      <td>...</td>\n",
              "    </tr>\n",
              "    <tr>\n",
              "      <th>1048570</th>\n",
              "      <td>0.426</td>\n",
              "      <td>0.426</td>\n",
              "      <td>1.8</td>\n",
              "      <td>0.426</td>\n",
              "      <td>0.426</td>\n",
              "      <td>0.0</td>\n",
              "    </tr>\n",
              "    <tr>\n",
              "      <th>1048571</th>\n",
              "      <td>0.424</td>\n",
              "      <td>0.424</td>\n",
              "      <td>1.8</td>\n",
              "      <td>0.424</td>\n",
              "      <td>0.424</td>\n",
              "      <td>0.0</td>\n",
              "    </tr>\n",
              "    <tr>\n",
              "      <th>1048572</th>\n",
              "      <td>0.422</td>\n",
              "      <td>0.422</td>\n",
              "      <td>1.8</td>\n",
              "      <td>0.422</td>\n",
              "      <td>0.422</td>\n",
              "      <td>0.0</td>\n",
              "    </tr>\n",
              "    <tr>\n",
              "      <th>1048573</th>\n",
              "      <td>0.422</td>\n",
              "      <td>0.422</td>\n",
              "      <td>1.8</td>\n",
              "      <td>0.422</td>\n",
              "      <td>0.422</td>\n",
              "      <td>0.0</td>\n",
              "    </tr>\n",
              "    <tr>\n",
              "      <th>1048574</th>\n",
              "      <td>0.422</td>\n",
              "      <td>0.422</td>\n",
              "      <td>1.8</td>\n",
              "      <td>0.422</td>\n",
              "      <td>0.422</td>\n",
              "      <td>0.0</td>\n",
              "    </tr>\n",
              "  </tbody>\n",
              "</table>\n",
              "<p>1044506 rows × 6 columns</p>\n",
              "</div>\n",
              "      <button class=\"colab-df-convert\" onclick=\"convertToInteractive('df-5d4d265e-a350-445d-a44c-aaad6bc68626')\"\n",
              "              title=\"Convert this dataframe to an interactive table.\"\n",
              "              style=\"display:none;\">\n",
              "        \n",
              "  <svg xmlns=\"http://www.w3.org/2000/svg\" height=\"24px\"viewBox=\"0 0 24 24\"\n",
              "       width=\"24px\">\n",
              "    <path d=\"M0 0h24v24H0V0z\" fill=\"none\"/>\n",
              "    <path d=\"M18.56 5.44l.94 2.06.94-2.06 2.06-.94-2.06-.94-.94-2.06-.94 2.06-2.06.94zm-11 1L8.5 8.5l.94-2.06 2.06-.94-2.06-.94L8.5 2.5l-.94 2.06-2.06.94zm10 10l.94 2.06.94-2.06 2.06-.94-2.06-.94-.94-2.06-.94 2.06-2.06.94z\"/><path d=\"M17.41 7.96l-1.37-1.37c-.4-.4-.92-.59-1.43-.59-.52 0-1.04.2-1.43.59L10.3 9.45l-7.72 7.72c-.78.78-.78 2.05 0 2.83L4 21.41c.39.39.9.59 1.41.59.51 0 1.02-.2 1.41-.59l7.78-7.78 2.81-2.81c.8-.78.8-2.07 0-2.86zM5.41 20L4 18.59l7.72-7.72 1.47 1.35L5.41 20z\"/>\n",
              "  </svg>\n",
              "      </button>\n",
              "      \n",
              "  <style>\n",
              "    .colab-df-container {\n",
              "      display:flex;\n",
              "      flex-wrap:wrap;\n",
              "      gap: 12px;\n",
              "    }\n",
              "\n",
              "    .colab-df-convert {\n",
              "      background-color: #E8F0FE;\n",
              "      border: none;\n",
              "      border-radius: 50%;\n",
              "      cursor: pointer;\n",
              "      display: none;\n",
              "      fill: #1967D2;\n",
              "      height: 32px;\n",
              "      padding: 0 0 0 0;\n",
              "      width: 32px;\n",
              "    }\n",
              "\n",
              "    .colab-df-convert:hover {\n",
              "      background-color: #E2EBFA;\n",
              "      box-shadow: 0px 1px 2px rgba(60, 64, 67, 0.3), 0px 1px 3px 1px rgba(60, 64, 67, 0.15);\n",
              "      fill: #174EA6;\n",
              "    }\n",
              "\n",
              "    [theme=dark] .colab-df-convert {\n",
              "      background-color: #3B4455;\n",
              "      fill: #D2E3FC;\n",
              "    }\n",
              "\n",
              "    [theme=dark] .colab-df-convert:hover {\n",
              "      background-color: #434B5C;\n",
              "      box-shadow: 0px 1px 3px 1px rgba(0, 0, 0, 0.15);\n",
              "      filter: drop-shadow(0px 1px 2px rgba(0, 0, 0, 0.3));\n",
              "      fill: #FFFFFF;\n",
              "    }\n",
              "  </style>\n",
              "\n",
              "      <script>\n",
              "        const buttonEl =\n",
              "          document.querySelector('#df-5d4d265e-a350-445d-a44c-aaad6bc68626 button.colab-df-convert');\n",
              "        buttonEl.style.display =\n",
              "          google.colab.kernel.accessAllowed ? 'block' : 'none';\n",
              "\n",
              "        async function convertToInteractive(key) {\n",
              "          const element = document.querySelector('#df-5d4d265e-a350-445d-a44c-aaad6bc68626');\n",
              "          const dataTable =\n",
              "            await google.colab.kernel.invokeFunction('convertToInteractive',\n",
              "                                                     [key], {});\n",
              "          if (!dataTable) return;\n",
              "\n",
              "          const docLinkHtml = 'Like what you see? Visit the ' +\n",
              "            '<a target=\"_blank\" href=https://colab.research.google.com/notebooks/data_table.ipynb>data table notebook</a>'\n",
              "            + ' to learn more about interactive tables.';\n",
              "          element.innerHTML = '';\n",
              "          dataTable['output_type'] = 'display_data';\n",
              "          await google.colab.output.renderOutput(dataTable, element);\n",
              "          const docLink = document.createElement('div');\n",
              "          docLink.innerHTML = docLinkHtml;\n",
              "          element.appendChild(docLink);\n",
              "        }\n",
              "      </script>\n",
              "    </div>\n",
              "  </div>\n",
              "  "
            ]
          },
          "metadata": {},
          "execution_count": 15
        }
      ]
    },
    {
      "cell_type": "code",
      "source": [
        "y = df[\"Voltage\"]"
      ],
      "metadata": {
        "id": "Q5UOe5RF3n4j"
      },
      "execution_count": 16,
      "outputs": []
    },
    {
      "cell_type": "code",
      "source": [
        "y"
      ],
      "metadata": {
        "colab": {
          "base_uri": "https://localhost:8080/"
        },
        "id": "hHsUZmje4CpK",
        "outputId": "8fd5538f-c300-4c0d-ab19-15c7a0422d31"
      },
      "execution_count": 17,
      "outputs": [
        {
          "output_type": "execute_result",
          "data": {
            "text/plain": [
              "0          234.84\n",
              "1          233.63\n",
              "2          233.29\n",
              "3          233.74\n",
              "4          235.68\n",
              "            ...  \n",
              "1048570    242.27\n",
              "1048571    242.10\n",
              "1048572    241.73\n",
              "1048573    242.56\n",
              "1048574    242.61\n",
              "Name: Voltage, Length: 1044506, dtype: float64"
            ]
          },
          "metadata": {},
          "execution_count": 17
        }
      ]
    },
    {
      "cell_type": "code",
      "source": [
        "from sklearn.preprocessing import StandardScaler"
      ],
      "metadata": {
        "id": "reeqKwlp4Df3"
      },
      "execution_count": 18,
      "outputs": []
    },
    {
      "cell_type": "code",
      "source": [
        "sc = StandardScaler()\n",
        "x.iloc[:,:] = sc.fit_transform(x.iloc[:,:])"
      ],
      "metadata": {
        "id": "P-p0G0pI4LPd"
      },
      "execution_count": 19,
      "outputs": []
    },
    {
      "cell_type": "code",
      "source": [
        "sns.heatmap(df.corr(),annot = True)"
      ],
      "metadata": {
        "colab": {
          "base_uri": "https://localhost:8080/",
          "height": 389
        },
        "id": "FdyxJVYE4py5",
        "outputId": "68de14d0-1b9f-4c5c-9649-9b54b7e3a166"
      },
      "execution_count": 20,
      "outputs": [
        {
          "output_type": "execute_result",
          "data": {
            "text/plain": [
              "<matplotlib.axes._subplots.AxesSubplot at 0x7fed503bf510>"
            ]
          },
          "metadata": {},
          "execution_count": 20
        },
        {
          "output_type": "display_data",
          "data": {
            "text/plain": [
              "<Figure size 432x288 with 2 Axes>"
            ],
            "image/png": "[encoded data removed]"
          },
          "metadata": {
            "needs_background": "light"
          }
        }
      ]
    },
    {
      "cell_type": "code",
      "source": [
        "from sklearn.model_selection import train_test_split\n",
        "xtrain,xtest,ytrain,ytest = train_test_split(x,y,test_size = 0.20,random_state = 1) "
      ],
      "metadata": {
        "id": "4TBDp6ch4ubV"
      },
      "execution_count": 21,
      "outputs": []
    },
    {
      "cell_type": "code",
      "source": [
        "# step1 : Initialize the ann model\n",
        "ann = Sequential()\n",
        "# step 2 : add layer into model \n",
        "ann.add(Dense(units = 30, activation = \"relu\"))\n",
        "ann.add(Dense(units = 1))\n",
        "\n",
        "# step 3 : establish the connection between the layers \n",
        "ann.compile(optimizer = \"adam\", loss = \"mse\")\n",
        "\n",
        "# step 4 : train the model\n",
        "ann.fit(xtrain,ytrain,epochs = 30,validation_data=(xtest,ytest))\n"
      ],
      "metadata": {
        "colab": {
          "base_uri": "https://localhost:8080/"
        },
        "id": "agfNpHjI6cz1",
        "outputId": "e33289d8-bf29-4bf4-9194-83474b6da51b"
      },
      "execution_count": 22,
      "outputs": [
        {
          "output_type": "stream",
          "name": "stdout",
          "text": [
            "Epoch 1/30\n",
            "26113/26113 [==============================] - 78s 3ms/step - loss: 2466.2615 - val_loss: 7.6071\n",
            "Epoch 2/30\n",
            "26113/26113 [==============================] - 69s 3ms/step - loss: 7.4113 - val_loss: 7.2040\n",
            "Epoch 3/30\n",
            "26113/26113 [==============================] - 94s 4ms/step - loss: 7.2446 - val_loss: 7.4837\n",
            "Epoch 4/30\n",
            "26113/26113 [==============================] - 96s 4ms/step - loss: 7.2125 - val_loss: 7.0936\n",
            "Epoch 5/30\n",
            "26113/26113 [==============================] - 80s 3ms/step - loss: 7.1942 - val_loss: 7.1384\n",
            "Epoch 6/30\n",
            "26113/26113 [==============================] - 72s 3ms/step - loss: 7.1807 - val_loss: 7.0836\n",
            "Epoch 7/30\n",
            "26113/26113 [==============================] - 76s 3ms/step - loss: 7.1763 - val_loss: 7.5145\n",
            "Epoch 8/30\n",
            "26113/26113 [==============================] - 68s 3ms/step - loss: 7.1712 - val_loss: 7.0700\n",
            "Epoch 9/30\n",
            "26113/26113 [==============================] - 68s 3ms/step - loss: 7.1676 - val_loss: 7.1316\n",
            "Epoch 10/30\n",
            "26113/26113 [==============================] - 65s 2ms/step - loss: 7.1611 - val_loss: 7.2733\n",
            "Epoch 11/30\n",
            "26113/26113 [==============================] - 80s 3ms/step - loss: 7.1544 - val_loss: 7.0534\n",
            "Epoch 12/30\n",
            "26113/26113 [==============================] - 65s 3ms/step - loss: 7.1526 - val_loss: 7.1529\n",
            "Epoch 13/30\n",
            "26113/26113 [==============================] - 68s 3ms/step - loss: 7.1502 - val_loss: 7.1817\n",
            "Epoch 14/30\n",
            "26113/26113 [==============================] - 69s 3ms/step - loss: 7.1456 - val_loss: 7.1369\n",
            "Epoch 15/30\n",
            "26113/26113 [==============================] - 65s 3ms/step - loss: 7.1374 - val_loss: 7.3105\n",
            "Epoch 16/30\n",
            "26113/26113 [==============================] - 67s 3ms/step - loss: 7.1339 - val_loss: 7.1272\n",
            "Epoch 17/30\n",
            "26113/26113 [==============================] - 69s 3ms/step - loss: 7.1315 - val_loss: 7.0181\n",
            "Epoch 18/30\n",
            "26113/26113 [==============================] - 66s 3ms/step - loss: 7.1240 - val_loss: 7.0935\n",
            "Epoch 19/30\n",
            "26113/26113 [==============================] - 66s 3ms/step - loss: 7.1191 - val_loss: 7.0921\n",
            "Epoch 20/30\n",
            "26113/26113 [==============================] - 70s 3ms/step - loss: 7.1130 - val_loss: 7.0795\n",
            "Epoch 21/30\n",
            "26113/26113 [==============================] - 69s 3ms/step - loss: 7.1019 - val_loss: 7.1956\n",
            "Epoch 22/30\n",
            "26113/26113 [==============================] - 64s 2ms/step - loss: 7.0952 - val_loss: 7.1458\n",
            "Epoch 23/30\n",
            "26113/26113 [==============================] - 67s 3ms/step - loss: 7.0808 - val_loss: 7.0001\n",
            "Epoch 24/30\n",
            "26113/26113 [==============================] - 70s 3ms/step - loss: 7.0725 - val_loss: 7.0737\n",
            "Epoch 25/30\n",
            "26113/26113 [==============================] - 71s 3ms/step - loss: 7.0617 - val_loss: 6.9406\n",
            "Epoch 26/30\n",
            "26113/26113 [==============================] - 70s 3ms/step - loss: 7.0325 - val_loss: 6.9175\n",
            "Epoch 27/30\n",
            "26113/26113 [==============================] - 71s 3ms/step - loss: 6.9464 - val_loss: 6.8617\n",
            "Epoch 28/30\n",
            "26113/26113 [==============================] - 71s 3ms/step - loss: 6.8713 - val_loss: 6.7927\n",
            "Epoch 29/30\n",
            "26113/26113 [==============================] - 70s 3ms/step - loss: 6.8589 - val_loss: 6.8275\n",
            "Epoch 30/30\n",
            "26113/26113 [==============================] - 74s 3ms/step - loss: 6.8485 - val_loss: 6.9087\n"
          ]
        },
        {
          "output_type": "execute_result",
          "data": {
            "text/plain": [
              "<keras.callbacks.History at 0x7fed4894d810>"
            ]
          },
          "metadata": {},
          "execution_count": 22
        }
      ]
    },
    {
      "cell_type": "code",
      "source": [
        "lossdf = pd.DataFrame(ann.history.history)\n",
        "lossdf.plot()"
      ],
      "metadata": {
        "id": "bwe2j9CR9v1a",
        "colab": {
          "base_uri": "https://localhost:8080/",
          "height": 282
        },
        "outputId": "9b9b5484-ffcd-444e-d5b8-db708c4d0387"
      },
      "execution_count": 23,
      "outputs": [
        {
          "output_type": "execute_result",
          "data": {
            "text/plain": [
              "<matplotlib.axes._subplots.AxesSubplot at 0x7fed44124890>"
            ]
          },
          "metadata": {},
          "execution_count": 23
        },
        {
          "output_type": "display_data",
          "data": {
            "text/plain": [
              "<Figure size 432x288 with 1 Axes>"
            ],
            "image/png": "[encoded data removed]"
          },
          "metadata": {
            "needs_background": "light"
          }
        }
      ]
    },
    {
      "cell_type": "code",
      "source": [
        "from tensorflow.keras.layers import Dropout"
      ],
      "metadata": {
        "id": "n5t7i7Pg9zee"
      },
      "execution_count": 24,
      "outputs": []
    },
    {
      "cell_type": "code",
      "source": [
        "# step1 : Initialize the ann model\n",
        "ann = Sequential()\n",
        "# step 2 : add layer into model \n",
        "ann.add(Dense(units = 30, activation = \"relu\"))\n",
        "ann.add(Dropout(rate = 0.5))\n",
        "ann.add(Dense(units = 30, activation = \"relu\"))\n",
        "ann.add(Dropout(rate = 0.5))\n",
        "ann.add(Dense(units = 1))\n",
        "\n",
        "# step 3 : establish the connection between the layers \n",
        "ann.compile(optimizer = \"adam\", loss = \"mse\")\n",
        "\n",
        "# step 4 : train the model\n",
        "ann.fit(xtrain,ytrain,epochs = 30,validation_data=(xtest,ytest))\n"
      ],
      "metadata": {
        "id": "h78fUEc89406",
        "colab": {
          "base_uri": "https://localhost:8080/"
        },
        "outputId": "b831e376-097f-4bba-fa31-222140aa149d"
      },
      "execution_count": 25,
      "outputs": [
        {
          "output_type": "stream",
          "name": "stdout",
          "text": [
            "Epoch 1/30\n",
            "26113/26113 [==============================] - 82s 3ms/step - loss: 4046.7402 - val_loss: 150.2942\n",
            "Epoch 2/30\n",
            "26113/26113 [==============================] - 80s 3ms/step - loss: 2230.4004 - val_loss: 96.4309\n",
            "Epoch 3/30\n",
            "26113/26113 [==============================] - 96s 4ms/step - loss: 1787.5369 - val_loss: 71.8570\n",
            "Epoch 4/30\n",
            "26113/26113 [==============================] - 90s 3ms/step - loss: 1381.4644 - val_loss: 66.9969\n",
            "Epoch 5/30\n",
            "26113/26113 [==============================] - 91s 3ms/step - loss: 1073.4187 - val_loss: 60.2760\n",
            "Epoch 6/30\n",
            "26113/26113 [==============================] - 83s 3ms/step - loss: 803.4454 - val_loss: 47.8542\n",
            "Epoch 7/30\n",
            "26113/26113 [==============================] - 82s 3ms/step - loss: 574.5113 - val_loss: 29.0527\n",
            "Epoch 8/30\n",
            "26113/26113 [==============================] - 83s 3ms/step - loss: 384.5945 - val_loss: 21.0469\n",
            "Epoch 9/30\n",
            "26113/26113 [==============================] - 80s 3ms/step - loss: 234.9024 - val_loss: 15.9038\n",
            "Epoch 10/30\n",
            "26113/26113 [==============================] - 76s 3ms/step - loss: 123.7217 - val_loss: 14.1126\n",
            "Epoch 11/30\n",
            "26113/26113 [==============================] - 82s 3ms/step - loss: 51.4432 - val_loss: 9.6763\n",
            "Epoch 12/30\n",
            "26113/26113 [==============================] - 76s 3ms/step - loss: 16.7135 - val_loss: 8.6639\n",
            "Epoch 13/30\n",
            "26113/26113 [==============================] - 77s 3ms/step - loss: 9.4118 - val_loss: 8.5762\n",
            "Epoch 14/30\n",
            "26113/26113 [==============================] - 75s 3ms/step - loss: 9.1363 - val_loss: 8.5314\n",
            "Epoch 15/30\n",
            "26113/26113 [==============================] - 82s 3ms/step - loss: 9.0877 - val_loss: 8.4960\n",
            "Epoch 16/30\n",
            "26113/26113 [==============================] - 80s 3ms/step - loss: 9.0770 - val_loss: 8.4280\n",
            "Epoch 17/30\n",
            "26113/26113 [==============================] - 83s 3ms/step - loss: 9.0837 - val_loss: 8.4272\n",
            "Epoch 18/30\n",
            "26113/26113 [==============================] - 84s 3ms/step - loss: 9.0690 - val_loss: 8.4384\n",
            "Epoch 19/30\n",
            "26113/26113 [==============================] - 93s 4ms/step - loss: 9.0831 - val_loss: 8.3499\n",
            "Epoch 20/30\n",
            "26113/26113 [==============================] - 81s 3ms/step - loss: 9.0677 - val_loss: 8.4052\n",
            "Epoch 21/30\n",
            "26113/26113 [==============================] - 84s 3ms/step - loss: 9.0619 - val_loss: 8.4164\n",
            "Epoch 22/30\n",
            "26113/26113 [==============================] - 74s 3ms/step - loss: 9.0691 - val_loss: 8.3994\n",
            "Epoch 23/30\n",
            "26113/26113 [==============================] - 73s 3ms/step - loss: 9.0767 - val_loss: 8.4960\n",
            "Epoch 24/30\n",
            "26113/26113 [==============================] - 90s 3ms/step - loss: 9.0698 - val_loss: 8.3854\n",
            "Epoch 25/30\n",
            "26113/26113 [==============================] - 87s 3ms/step - loss: 9.0689 - val_loss: 8.3915\n",
            "Epoch 26/30\n",
            "26113/26113 [==============================] - 85s 3ms/step - loss: 9.0695 - val_loss: 8.4353\n",
            "Epoch 27/30\n",
            "26113/26113 [==============================] - 83s 3ms/step - loss: 9.0754 - val_loss: 8.3320\n",
            "Epoch 28/30\n",
            "26113/26113 [==============================] - 78s 3ms/step - loss: 9.0650 - val_loss: 8.4577\n",
            "Epoch 29/30\n",
            "26113/26113 [==============================] - 84s 3ms/step - loss: 9.0702 - val_loss: 8.4560\n",
            "Epoch 30/30\n",
            "26113/26113 [==============================] - 86s 3ms/step - loss: 9.0651 - val_loss: 8.4759\n"
          ]
        },
        {
          "output_type": "execute_result",
          "data": {
            "text/plain": [
              "<keras.callbacks.History at 0x7fed48802e50>"
            ]
          },
          "metadata": {},
          "execution_count": 25
        }
      ]
    },
    {
      "cell_type": "code",
      "source": [
        "lossdf = pd.DataFrame(ann.history.history)\n",
        "lossdf.plot()"
      ],
      "metadata": {
        "colab": {
          "base_uri": "https://localhost:8080/",
          "height": 282
        },
        "id": "x7uu6jPriLdX",
        "outputId": "44d327f7-e416-472e-bbf7-e788ec8e2e68"
      },
      "execution_count": 26,
      "outputs": [
        {
          "output_type": "execute_result",
          "data": {
            "text/plain": [
              "<matplotlib.axes._subplots.AxesSubplot at 0x7fed48744d50>"
            ]
          },
          "metadata": {},
          "execution_count": 26
        },
        {
          "output_type": "display_data",
          "data": {
            "text/plain": [
              "<Figure size 432x288 with 1 Axes>"
            ],
            "image/png": "[encoded data removed]"
          },
          "metadata": {
            "needs_background": "light"
          }
        }
      ]
    },
    {
      "cell_type": "code",
      "source": [
        "ann = Sequential()\n",
        "# step 2 : add layer into model \n",
        "ann.add(Dense(units = 30, activation = \"relu\"))\n",
        "ann.add(Dense(units = 1))\n",
        "\n",
        "# step 3 : establish the connection between the layers \n",
        "ann.compile(optimizer = \"adam\", loss = \"mse\")\n",
        "\n"
      ],
      "metadata": {
        "id": "_qEF5fMljs8K"
      },
      "execution_count": 28,
      "outputs": []
    },
    {
      "cell_type": "code",
      "source": [
        "from tensorflow.keras.callbacks import EarlyStopping\n",
        "earlystopping = EarlyStopping(monitor = \"val_loss\",min_delta = 0.01,patience = 5,verbose = 1)\n",
        "ann.fit(xtrain,ytrain,epochs = 30,validation_data=(xtest,ytest),callbacks = [earlystopping])"
      ],
      "metadata": {
        "colab": {
          "base_uri": "https://localhost:8080/"
        },
        "id": "GcG28351jw-C",
        "outputId": "13133fbb-6f41-4cb8-c952-d7fdf018affd"
      },
      "execution_count": 30,
      "outputs": [
        {
          "output_type": "stream",
          "name": "stdout",
          "text": [
            "Epoch 1/30\n",
            "26113/26113 [==============================] - 68s 3ms/step - loss: 7.2115 - val_loss: 7.2779\n",
            "Epoch 2/30\n",
            "26113/26113 [==============================] - 75s 3ms/step - loss: 7.1985 - val_loss: 7.2060\n",
            "Epoch 3/30\n",
            "26113/26113 [==============================] - 67s 3ms/step - loss: 7.1830 - val_loss: 7.1651\n",
            "Epoch 4/30\n",
            "26113/26113 [==============================] - 70s 3ms/step - loss: 7.1694 - val_loss: 7.1214\n",
            "Epoch 5/30\n",
            "26113/26113 [==============================] - 71s 3ms/step - loss: 7.1517 - val_loss: 7.0900\n",
            "Epoch 6/30\n",
            "26113/26113 [==============================] - 66s 3ms/step - loss: 7.1227 - val_loss: 7.0506\n",
            "Epoch 7/30\n",
            "26113/26113 [==============================] - 70s 3ms/step - loss: 7.0544 - val_loss: 7.0600\n",
            "Epoch 8/30\n",
            "26113/26113 [==============================] - 68s 3ms/step - loss: 6.8922 - val_loss: 6.8831\n",
            "Epoch 9/30\n",
            "26113/26113 [==============================] - 74s 3ms/step - loss: 6.8780 - val_loss: 6.8408\n",
            "Epoch 10/30\n",
            "26113/26113 [==============================] - 69s 3ms/step - loss: 6.8724 - val_loss: 6.7606\n",
            "Epoch 11/30\n",
            "26113/26113 [==============================] - 73s 3ms/step - loss: 6.8716 - val_loss: 6.7921\n",
            "Epoch 12/30\n",
            "26113/26113 [==============================] - 71s 3ms/step - loss: 6.8679 - val_loss: 6.9840\n",
            "Epoch 13/30\n",
            "26113/26113 [==============================] - 71s 3ms/step - loss: 6.8678 - val_loss: 6.7719\n",
            "Epoch 14/30\n",
            "26113/26113 [==============================] - 73s 3ms/step - loss: 6.8637 - val_loss: 6.8344\n",
            "Epoch 15/30\n",
            "26113/26113 [==============================] - 68s 3ms/step - loss: 6.8668 - val_loss: 6.7703\n",
            "Epoch 15: early stopping\n"
          ]
        },
        {
          "output_type": "execute_result",
          "data": {
            "text/plain": [
              "<keras.callbacks.History at 0x7fed3e07a6d0>"
            ]
          },
          "metadata": {},
          "execution_count": 30
        }
      ]
    },
    {
      "cell_type": "code",
      "source": [
        "lossdf = pd.DataFrame(ann.history.history)\n",
        "lossdf.plot()"
      ],
      "metadata": {
        "colab": {
          "base_uri": "https://localhost:8080/",
          "height": 285
        },
        "id": "7TBjc4so0oa2",
        "outputId": "419027db-e404-415a-fdfe-29e4b3189388"
      },
      "execution_count": 31,
      "outputs": [
        {
          "output_type": "execute_result",
          "data": {
            "text/plain": [
              "<matplotlib.axes._subplots.AxesSubplot at 0x7fed3e08eb90>"
            ]
          },
          "metadata": {},
          "execution_count": 31
        },
        {
          "output_type": "display_data",
          "data": {
            "text/plain": [
              "<Figure size 432x288 with 1 Axes>"
            ],
            "image/png": "[encoded data removed]"
          },
          "metadata": {
            "needs_background": "light"
          }
        }
      ]
    },
    {
      "cell_type": "code",
      "source": [],
      "metadata": {
        "id": "YU-bO8HD05Vt"
      },
      "execution_count": null,
      "outputs": []
    }
  ]
}